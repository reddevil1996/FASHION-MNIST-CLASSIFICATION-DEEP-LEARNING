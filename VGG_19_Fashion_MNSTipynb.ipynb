{
  "nbformat": 4,
  "nbformat_minor": 0,
  "metadata": {
    "colab": {
      "name": "VGG-19 Fashion.MNSTipynb",
      "provenance": [],
      "collapsed_sections": []
    },
    "kernelspec": {
      "name": "python3",
      "display_name": "Python 3"
    },
    "accelerator": "GPU"
  },
  "cells": [
    {
      "cell_type": "code",
      "metadata": {
        "id": "hZyo6N1iXY9C",
        "colab_type": "code",
        "colab": {
          "base_uri": "https://localhost:8080/",
          "height": 34
        },
        "outputId": "025bd433-9dff-421e-9acb-3990b8f688f8"
      },
      "source": [
        "from google.colab import drive\n",
        "drive.mount('/content/drive')"
      ],
      "execution_count": 1,
      "outputs": [
        {
          "output_type": "stream",
          "text": [
            "Drive already mounted at /content/drive; to attempt to forcibly remount, call drive.mount(\"/content/drive\", force_remount=True).\n"
          ],
          "name": "stdout"
        }
      ]
    },
    {
      "cell_type": "code",
      "metadata": {
        "id": "T_Yt-i_NXqAs",
        "colab_type": "code",
        "colab": {
          "base_uri": "https://localhost:8080/",
          "height": 34
        },
        "outputId": "666b996d-ac52-4f5d-cb25-f5a4c1ed2f7f"
      },
      "source": [
        "import numpy as np\n",
        "import pandas as pd\n",
        "import matplotlib.pyplot as plt\n",
        "from keras.utils import to_categorical\n",
        "\n",
        "# Load training and test data into dataframes\n",
        "data_train = pd.read_csv('/content/drive/My Drive/fashion-mnist_train.csv')\n",
        "data_test = pd.read_csv('/content/drive/My Drive/fashion-mnist_test.csv')\n",
        "\n",
        "# X forms the training images, and y forms the training labels\n",
        "X = np.array(data_train.iloc[:, 1:])\n",
        "y = to_categorical(np.array(data_train.iloc[:, 0]))\n",
        "\n",
        "# X_test forms the test images, and y_test forms the test labels\n",
        "X_test = np.array(data_test.iloc[:, 1:])\n",
        "y_test = to_categorical(np.array(data_test.iloc[:, 0]))"
      ],
      "execution_count": 1,
      "outputs": [
        {
          "output_type": "stream",
          "text": [
            "Using TensorFlow backend.\n"
          ],
          "name": "stderr"
        }
      ]
    },
    {
      "cell_type": "code",
      "metadata": {
        "id": "pEhJsYk2YXqn",
        "colab_type": "code",
        "colab": {
          "base_uri": "https://localhost:8080/",
          "height": 34
        },
        "outputId": "55a5aaf5-d749-4f09-b164-67397d914d28"
      },
      "source": [
        "# Convert the training and test images into 3 channels\n",
        "X = np.dstack([X] * 3)\n",
        "X_test = np.dstack([X_test] * 3)\n",
        "\n",
        "# Display their new shapes\n",
        "X.shape, X_test.shape"
      ],
      "execution_count": 2,
      "outputs": [
        {
          "output_type": "execute_result",
          "data": {
            "text/plain": [
              "((60000, 784, 3), (10000, 784, 3))"
            ]
          },
          "metadata": {
            "tags": []
          },
          "execution_count": 2
        }
      ]
    },
    {
      "cell_type": "code",
      "metadata": {
        "id": "ZfQi6N12Yc_q",
        "colab_type": "code",
        "colab": {
          "base_uri": "https://localhost:8080/",
          "height": 34
        },
        "outputId": "1461001e-c396-42b6-839c-96a72e8f6380"
      },
      "source": [
        "# Reshape images as per the tensor format required by tensorflow\n",
        "X = X.reshape(-1, 28,28,3)\n",
        "X_test= X_test.reshape (-1,28,28,3)\n",
        "\n",
        "# Display the new shape\n",
        "X.shape, X_test.shape"
      ],
      "execution_count": 3,
      "outputs": [
        {
          "output_type": "execute_result",
          "data": {
            "text/plain": [
              "((60000, 28, 28, 3), (10000, 28, 28, 3))"
            ]
          },
          "metadata": {
            "tags": []
          },
          "execution_count": 3
        }
      ]
    },
    {
      "cell_type": "code",
      "metadata": {
        "id": "49FZinZTYiHF",
        "colab_type": "code",
        "colab": {}
      },
      "source": [
        "# Resize the images as 150 * 150 as required by VGG19\n",
        "from keras.preprocessing.image import img_to_array, array_to_img\n",
        "\n",
        "X = np.asarray([img_to_array(array_to_img(im, scale=False).resize((48,48))) for im in X])\n",
        "X_test = np.asarray([img_to_array(array_to_img(im, scale=False).resize((48,48))) for im in X_test])\n"
      ],
      "execution_count": 0,
      "outputs": []
    },
    {
      "cell_type": "code",
      "metadata": {
        "id": "8QnEuVjIYuFn",
        "colab_type": "code",
        "colab": {}
      },
      "source": [
        "# Normalise the data and change data type\n",
        "X = X.astype('float32')\n",
        "X /= 255\n",
        "\n",
        "X_test = X_test.astype('float32')\n",
        "X_test /= 255"
      ],
      "execution_count": 0,
      "outputs": []
    },
    {
      "cell_type": "code",
      "metadata": {
        "id": "5yVbE-i-ZG0Q",
        "colab_type": "code",
        "colab": {
          "base_uri": "https://localhost:8080/",
          "height": 34
        },
        "outputId": "880551c1-0008-4d3f-feec-dc9eb7a4ed8e"
      },
      "source": [
        "from sklearn.model_selection import train_test_split\n",
        "\n",
        "# Here I split original training data to sub-training (80%) and validation data (20%)\n",
        "X_train, X_val, y_train, y_val = train_test_split(X, y, test_size=0.2, random_state=13)\n",
        "\n",
        "# Check the data size whether it is as per tensorflow and VGG19 requirement\n",
        "X_train.shape, X_val.shape, y_train.shape, y_val.shape"
      ],
      "execution_count": 6,
      "outputs": [
        {
          "output_type": "execute_result",
          "data": {
            "text/plain": [
              "((48000, 48, 48, 3), (12000, 48, 48, 3), (48000, 10), (12000, 10))"
            ]
          },
          "metadata": {
            "tags": []
          },
          "execution_count": 6
        }
      ]
    },
    {
      "cell_type": "code",
      "metadata": {
        "id": "OxxVoLP1dq97",
        "colab_type": "code",
        "colab": {}
      },
      "source": [
        "from keras.applications import VGG19\n",
        "\n",
        "# Create the base model of VGG19\n",
        "vgg19 = VGG19(weights='imagenet', include_top=False, input_shape = (48, 48, 3), classes = 10)"
      ],
      "execution_count": 0,
      "outputs": []
    },
    {
      "cell_type": "code",
      "metadata": {
        "id": "OiGqqijhdzZf",
        "colab_type": "code",
        "colab": {
          "base_uri": "https://localhost:8080/",
          "height": 890
        },
        "outputId": "f77d615e-dbb7-4922-c0bd-ee5ab0948aa2"
      },
      "source": [
        "vgg19.summary()"
      ],
      "execution_count": 8,
      "outputs": [
        {
          "output_type": "stream",
          "text": [
            "Model: \"vgg19\"\n",
            "_________________________________________________________________\n",
            "Layer (type)                 Output Shape              Param #   \n",
            "=================================================================\n",
            "input_1 (InputLayer)         (None, 48, 48, 3)         0         \n",
            "_________________________________________________________________\n",
            "block1_conv1 (Conv2D)        (None, 48, 48, 64)        1792      \n",
            "_________________________________________________________________\n",
            "block1_conv2 (Conv2D)        (None, 48, 48, 64)        36928     \n",
            "_________________________________________________________________\n",
            "block1_pool (MaxPooling2D)   (None, 24, 24, 64)        0         \n",
            "_________________________________________________________________\n",
            "block2_conv1 (Conv2D)        (None, 24, 24, 128)       73856     \n",
            "_________________________________________________________________\n",
            "block2_conv2 (Conv2D)        (None, 24, 24, 128)       147584    \n",
            "_________________________________________________________________\n",
            "block2_pool (MaxPooling2D)   (None, 12, 12, 128)       0         \n",
            "_________________________________________________________________\n",
            "block3_conv1 (Conv2D)        (None, 12, 12, 256)       295168    \n",
            "_________________________________________________________________\n",
            "block3_conv2 (Conv2D)        (None, 12, 12, 256)       590080    \n",
            "_________________________________________________________________\n",
            "block3_conv3 (Conv2D)        (None, 12, 12, 256)       590080    \n",
            "_________________________________________________________________\n",
            "block3_conv4 (Conv2D)        (None, 12, 12, 256)       590080    \n",
            "_________________________________________________________________\n",
            "block3_pool (MaxPooling2D)   (None, 6, 6, 256)         0         \n",
            "_________________________________________________________________\n",
            "block4_conv1 (Conv2D)        (None, 6, 6, 512)         1180160   \n",
            "_________________________________________________________________\n",
            "block4_conv2 (Conv2D)        (None, 6, 6, 512)         2359808   \n",
            "_________________________________________________________________\n",
            "block4_conv3 (Conv2D)        (None, 6, 6, 512)         2359808   \n",
            "_________________________________________________________________\n",
            "block4_conv4 (Conv2D)        (None, 6, 6, 512)         2359808   \n",
            "_________________________________________________________________\n",
            "block4_pool (MaxPooling2D)   (None, 3, 3, 512)         0         \n",
            "_________________________________________________________________\n",
            "block5_conv1 (Conv2D)        (None, 3, 3, 512)         2359808   \n",
            "_________________________________________________________________\n",
            "block5_conv2 (Conv2D)        (None, 3, 3, 512)         2359808   \n",
            "_________________________________________________________________\n",
            "block5_conv3 (Conv2D)        (None, 3, 3, 512)         2359808   \n",
            "_________________________________________________________________\n",
            "block5_conv4 (Conv2D)        (None, 3, 3, 512)         2359808   \n",
            "_________________________________________________________________\n",
            "block5_pool (MaxPooling2D)   (None, 1, 1, 512)         0         \n",
            "=================================================================\n",
            "Total params: 20,024,384\n",
            "Trainable params: 20,024,384\n",
            "Non-trainable params: 0\n",
            "_________________________________________________________________\n"
          ],
          "name": "stdout"
        }
      ]
    },
    {
      "cell_type": "code",
      "metadata": {
        "id": "fPusJXByd859",
        "colab_type": "code",
        "colab": {}
      },
      "source": [
        "from keras.applications.vgg19 import preprocess_input\n",
        "\n",
        "# Preprocessing the input \n",
        "X_train = preprocess_input(X_train)\n",
        "X_val = preprocess_input(X_val)\n",
        "X_test = preprocess_input(X_test)"
      ],
      "execution_count": 0,
      "outputs": []
    },
    {
      "cell_type": "code",
      "metadata": {
        "id": "YZ5_60VzeFx8",
        "colab_type": "code",
        "colab": {
          "base_uri": "https://localhost:8080/",
          "height": 67
        },
        "outputId": "1a95f00c-cff4-48a1-e887-9b617e4fc4cd"
      },
      "source": [
        "# Extracting features\n",
        "train_features = vgg19.predict(np.array(X_train), batch_size=256, verbose=1)\n",
        "test_features = vgg19.predict(np.array(X_test), batch_size=256, verbose=1)\n",
        "val_features = vgg19.predict(np.array(X_val), batch_size=256, verbose=1)"
      ],
      "execution_count": 10,
      "outputs": [
        {
          "output_type": "stream",
          "text": [
            "48000/48000 [==============================] - 23s 475us/step\n",
            "10000/10000 [==============================] - 3s 316us/step\n",
            "12000/12000 [==============================] - 5s 399us/step\n"
          ],
          "name": "stdout"
        }
      ]
    },
    {
      "cell_type": "code",
      "metadata": {
        "id": "2d8RBgKYeNZi",
        "colab_type": "code",
        "colab": {}
      },
      "source": [
        "# Saving the features so that they can be used for future\n",
        "np.savez(\"train_features\", train_features, y_train)\n",
        "np.savez(\"test_features\", test_features, y_test)\n",
        "np.savez(\"val_features\", val_features, y_val)"
      ],
      "execution_count": 0,
      "outputs": []
    },
    {
      "cell_type": "code",
      "metadata": {
        "id": "WM1ePeXkebvD",
        "colab_type": "code",
        "colab": {
          "base_uri": "https://localhost:8080/",
          "height": 67
        },
        "outputId": "5c657c9e-db34-4c9c-a8f1-6834a221a5f8"
      },
      "source": [
        "# Current shape of features\n",
        "print(train_features.shape, \"\\n\",  test_features.shape, \"\\n\", val_features.shape)"
      ],
      "execution_count": 12,
      "outputs": [
        {
          "output_type": "stream",
          "text": [
            "(48000, 1, 1, 512) \n",
            " (10000, 1, 1, 512) \n",
            " (12000, 1, 1, 512)\n"
          ],
          "name": "stdout"
        }
      ]
    },
    {
      "cell_type": "code",
      "metadata": {
        "id": "gO2Jx1yZef1x",
        "colab_type": "code",
        "colab": {}
      },
      "source": [
        "# Flatten extracted features\n",
        "train_features = np.reshape(train_features, (48000, 1*1*512))\n",
        "test_features = np.reshape(test_features, (10000, 1*1*512))\n",
        "val_features = np.reshape(val_features, (12000, 1*1*512))"
      ],
      "execution_count": 0,
      "outputs": []
    },
    {
      "cell_type": "code",
      "metadata": {
        "id": "gXLWvFY9ejdI",
        "colab_type": "code",
        "colab": {}
      },
      "source": [
        "from keras.layers import Dense, Dropout\n",
        "from keras.models import Model\n",
        "from keras import models\n",
        "from keras import layers\n",
        "from keras import optimizers\n",
        "\n",
        "# Add Dense and Dropout layers on top of VGG19 pre-trained\n",
        "model = models.Sequential()\n",
        "model.add(layers.Dense(512, activation='relu', input_dim=1 * 1 * 512))\n",
        "model.add(layers.Dropout(0.5))\n",
        "model.add(layers.Dense(10, activation=\"softmax\"))"
      ],
      "execution_count": 0,
      "outputs": []
    },
    {
      "cell_type": "code",
      "metadata": {
        "id": "EsWVOyupgxyn",
        "colab_type": "code",
        "colab": {}
      },
      "source": [
        "import keras\n",
        "\n",
        "# Compile the model\n",
        "model.compile(loss=keras.losses.categorical_crossentropy,\n",
        "              optimizer=keras.optimizers.Adam(),\n",
        "              metrics=['accuracy'])"
      ],
      "execution_count": 0,
      "outputs": []
    },
    {
      "cell_type": "code",
      "metadata": {
        "id": "LFSaI3Y9g3Kw",
        "colab_type": "code",
        "colab": {
          "base_uri": "https://localhost:8080/",
          "height": 1000
        },
        "outputId": "2da4f984-3636-47d7-ada7-8cf61b095328"
      },
      "source": [
        "history = model.fit(train_features, y_train,\n",
        "          batch_size=256,\n",
        "          epochs=200,\n",
        "          verbose=1,\n",
        "          validation_data=(val_features, y_val))"
      ],
      "execution_count": 22,
      "outputs": [
        {
          "output_type": "stream",
          "text": [
            "Train on 48000 samples, validate on 12000 samples\n",
            "Epoch 1/200\n",
            "48000/48000 [==============================] - 1s 18us/step - loss: 0.9573 - accuracy: 0.6559 - val_loss: 0.8553 - val_accuracy: 0.6937\n",
            "Epoch 2/200\n",
            "48000/48000 [==============================] - 1s 16us/step - loss: 0.9619 - accuracy: 0.6543 - val_loss: 0.8553 - val_accuracy: 0.6892\n",
            "Epoch 3/200\n",
            "48000/48000 [==============================] - 1s 15us/step - loss: 0.9599 - accuracy: 0.6547 - val_loss: 0.8405 - val_accuracy: 0.7044\n",
            "Epoch 4/200\n",
            "48000/48000 [==============================] - 1s 15us/step - loss: 0.9617 - accuracy: 0.6557 - val_loss: 0.8625 - val_accuracy: 0.6858\n",
            "Epoch 5/200\n",
            "48000/48000 [==============================] - 1s 15us/step - loss: 0.9616 - accuracy: 0.6564 - val_loss: 0.8588 - val_accuracy: 0.6966\n",
            "Epoch 6/200\n",
            "48000/48000 [==============================] - 1s 17us/step - loss: 0.9566 - accuracy: 0.6567 - val_loss: 0.8273 - val_accuracy: 0.7089\n",
            "Epoch 7/200\n",
            "48000/48000 [==============================] - 1s 16us/step - loss: 0.9531 - accuracy: 0.6589 - val_loss: 0.8378 - val_accuracy: 0.7048\n",
            "Epoch 8/200\n",
            "48000/48000 [==============================] - 1s 16us/step - loss: 0.9576 - accuracy: 0.6544 - val_loss: 0.8543 - val_accuracy: 0.6940\n",
            "Epoch 9/200\n",
            "48000/48000 [==============================] - 1s 15us/step - loss: 0.9571 - accuracy: 0.6569 - val_loss: 0.8453 - val_accuracy: 0.7106\n",
            "Epoch 10/200\n",
            "48000/48000 [==============================] - 1s 16us/step - loss: 0.9618 - accuracy: 0.6531 - val_loss: 0.8502 - val_accuracy: 0.7087\n",
            "Epoch 11/200\n",
            "48000/48000 [==============================] - 1s 16us/step - loss: 0.9617 - accuracy: 0.6531 - val_loss: 0.8395 - val_accuracy: 0.7043\n",
            "Epoch 12/200\n",
            "48000/48000 [==============================] - 1s 16us/step - loss: 0.9642 - accuracy: 0.6529 - val_loss: 0.8384 - val_accuracy: 0.7065\n",
            "Epoch 13/200\n",
            "48000/48000 [==============================] - 1s 15us/step - loss: 0.9690 - accuracy: 0.6516 - val_loss: 0.8431 - val_accuracy: 0.6979\n",
            "Epoch 14/200\n",
            "48000/48000 [==============================] - 1s 15us/step - loss: 0.9624 - accuracy: 0.6535 - val_loss: 0.8236 - val_accuracy: 0.7023\n",
            "Epoch 15/200\n",
            "48000/48000 [==============================] - 1s 17us/step - loss: 0.9607 - accuracy: 0.6550 - val_loss: 0.8442 - val_accuracy: 0.7122\n",
            "Epoch 16/200\n",
            "48000/48000 [==============================] - 1s 15us/step - loss: 0.9648 - accuracy: 0.6534 - val_loss: 0.8204 - val_accuracy: 0.7117\n",
            "Epoch 17/200\n",
            "48000/48000 [==============================] - 1s 16us/step - loss: 0.9625 - accuracy: 0.6537 - val_loss: 0.8298 - val_accuracy: 0.7083\n",
            "Epoch 18/200\n",
            "48000/48000 [==============================] - 1s 17us/step - loss: 0.9633 - accuracy: 0.6499 - val_loss: 0.8467 - val_accuracy: 0.6982\n",
            "Epoch 19/200\n",
            "48000/48000 [==============================] - 1s 15us/step - loss: 0.9563 - accuracy: 0.6548 - val_loss: 0.8404 - val_accuracy: 0.7033\n",
            "Epoch 20/200\n",
            "48000/48000 [==============================] - 1s 16us/step - loss: 0.9635 - accuracy: 0.6549 - val_loss: 0.8390 - val_accuracy: 0.7058\n",
            "Epoch 21/200\n",
            "48000/48000 [==============================] - 1s 16us/step - loss: 0.9559 - accuracy: 0.6573 - val_loss: 0.8221 - val_accuracy: 0.7112\n",
            "Epoch 22/200\n",
            "48000/48000 [==============================] - 1s 15us/step - loss: 0.9509 - accuracy: 0.6606 - val_loss: 0.8302 - val_accuracy: 0.7088\n",
            "Epoch 23/200\n",
            "48000/48000 [==============================] - 1s 15us/step - loss: 0.9531 - accuracy: 0.6591 - val_loss: 0.8035 - val_accuracy: 0.7121\n",
            "Epoch 24/200\n",
            "48000/48000 [==============================] - 1s 15us/step - loss: 0.9565 - accuracy: 0.6553 - val_loss: 0.8253 - val_accuracy: 0.7075\n",
            "Epoch 25/200\n",
            "48000/48000 [==============================] - 1s 15us/step - loss: 0.9565 - accuracy: 0.6569 - val_loss: 0.8306 - val_accuracy: 0.7077\n",
            "Epoch 26/200\n",
            "48000/48000 [==============================] - 1s 15us/step - loss: 0.9687 - accuracy: 0.6513 - val_loss: 0.8172 - val_accuracy: 0.7136\n",
            "Epoch 27/200\n",
            "48000/48000 [==============================] - 1s 16us/step - loss: 0.9574 - accuracy: 0.6562 - val_loss: 0.8374 - val_accuracy: 0.7004\n",
            "Epoch 28/200\n",
            "48000/48000 [==============================] - 1s 17us/step - loss: 0.9655 - accuracy: 0.6517 - val_loss: 0.8217 - val_accuracy: 0.7105\n",
            "Epoch 29/200\n",
            "48000/48000 [==============================] - 1s 15us/step - loss: 0.9785 - accuracy: 0.6445 - val_loss: 0.8135 - val_accuracy: 0.7067\n",
            "Epoch 30/200\n",
            "48000/48000 [==============================] - 1s 15us/step - loss: 0.9620 - accuracy: 0.6503 - val_loss: 0.8073 - val_accuracy: 0.7177\n",
            "Epoch 31/200\n",
            "48000/48000 [==============================] - 1s 16us/step - loss: 0.9526 - accuracy: 0.6552 - val_loss: 0.8360 - val_accuracy: 0.7015\n",
            "Epoch 32/200\n",
            "48000/48000 [==============================] - 1s 16us/step - loss: 0.9655 - accuracy: 0.6512 - val_loss: 0.8362 - val_accuracy: 0.7147\n",
            "Epoch 33/200\n",
            "48000/48000 [==============================] - 1s 16us/step - loss: 0.9579 - accuracy: 0.6570 - val_loss: 0.8053 - val_accuracy: 0.7124\n",
            "Epoch 34/200\n",
            "48000/48000 [==============================] - 1s 16us/step - loss: 0.9590 - accuracy: 0.6557 - val_loss: 0.8252 - val_accuracy: 0.7107\n",
            "Epoch 35/200\n",
            "48000/48000 [==============================] - 1s 15us/step - loss: 0.9567 - accuracy: 0.6556 - val_loss: 0.8157 - val_accuracy: 0.7117\n",
            "Epoch 36/200\n",
            "48000/48000 [==============================] - 1s 15us/step - loss: 0.9550 - accuracy: 0.6557 - val_loss: 0.8062 - val_accuracy: 0.7186\n",
            "Epoch 37/200\n",
            "48000/48000 [==============================] - 1s 16us/step - loss: 0.9501 - accuracy: 0.6578 - val_loss: 0.8145 - val_accuracy: 0.7061\n",
            "Epoch 38/200\n",
            "48000/48000 [==============================] - 1s 15us/step - loss: 0.9517 - accuracy: 0.6574 - val_loss: 0.8144 - val_accuracy: 0.7094\n",
            "Epoch 39/200\n",
            "48000/48000 [==============================] - 1s 15us/step - loss: 0.9650 - accuracy: 0.6485 - val_loss: 0.8036 - val_accuracy: 0.7106\n",
            "Epoch 40/200\n",
            "48000/48000 [==============================] - 1s 16us/step - loss: 0.9605 - accuracy: 0.6537 - val_loss: 0.8179 - val_accuracy: 0.7149\n",
            "Epoch 41/200\n",
            "48000/48000 [==============================] - 1s 16us/step - loss: 0.9551 - accuracy: 0.6568 - val_loss: 0.8034 - val_accuracy: 0.7196\n",
            "Epoch 42/200\n",
            "48000/48000 [==============================] - 1s 16us/step - loss: 0.9537 - accuracy: 0.6561 - val_loss: 0.7961 - val_accuracy: 0.7192\n",
            "Epoch 43/200\n",
            "48000/48000 [==============================] - 1s 16us/step - loss: 0.9462 - accuracy: 0.6570 - val_loss: 0.8190 - val_accuracy: 0.7063\n",
            "Epoch 44/200\n",
            "48000/48000 [==============================] - 1s 16us/step - loss: 0.9689 - accuracy: 0.6513 - val_loss: 0.8196 - val_accuracy: 0.7191\n",
            "Epoch 45/200\n",
            "48000/48000 [==============================] - 1s 15us/step - loss: 0.9598 - accuracy: 0.6543 - val_loss: 0.8289 - val_accuracy: 0.7109\n",
            "Epoch 46/200\n",
            "48000/48000 [==============================] - 1s 15us/step - loss: 0.9460 - accuracy: 0.6591 - val_loss: 0.7960 - val_accuracy: 0.7192\n",
            "Epoch 47/200\n",
            "48000/48000 [==============================] - 1s 15us/step - loss: 0.9587 - accuracy: 0.6506 - val_loss: 0.8370 - val_accuracy: 0.7032\n",
            "Epoch 48/200\n",
            "48000/48000 [==============================] - 1s 17us/step - loss: 0.9683 - accuracy: 0.6483 - val_loss: 0.8052 - val_accuracy: 0.7178\n",
            "Epoch 49/200\n",
            "48000/48000 [==============================] - 1s 15us/step - loss: 0.9555 - accuracy: 0.6555 - val_loss: 0.7831 - val_accuracy: 0.7161\n",
            "Epoch 50/200\n",
            "48000/48000 [==============================] - 1s 17us/step - loss: 0.9790 - accuracy: 0.6470 - val_loss: 0.8128 - val_accuracy: 0.7127\n",
            "Epoch 51/200\n",
            "48000/48000 [==============================] - 1s 17us/step - loss: 0.9808 - accuracy: 0.6470 - val_loss: 0.8004 - val_accuracy: 0.7133\n",
            "Epoch 52/200\n",
            "48000/48000 [==============================] - 1s 16us/step - loss: 0.9652 - accuracy: 0.6522 - val_loss: 0.8238 - val_accuracy: 0.7028\n",
            "Epoch 53/200\n",
            "48000/48000 [==============================] - 1s 16us/step - loss: 0.9564 - accuracy: 0.6575 - val_loss: 0.8013 - val_accuracy: 0.7107\n",
            "Epoch 54/200\n",
            "48000/48000 [==============================] - 1s 16us/step - loss: 0.9615 - accuracy: 0.6521 - val_loss: 0.8118 - val_accuracy: 0.7163\n",
            "Epoch 55/200\n",
            "48000/48000 [==============================] - 1s 16us/step - loss: 0.9558 - accuracy: 0.6571 - val_loss: 0.7984 - val_accuracy: 0.7159\n",
            "Epoch 56/200\n",
            "48000/48000 [==============================] - 1s 16us/step - loss: 0.9532 - accuracy: 0.6588 - val_loss: 0.8106 - val_accuracy: 0.7113\n",
            "Epoch 57/200\n",
            "48000/48000 [==============================] - 1s 15us/step - loss: 0.9591 - accuracy: 0.6567 - val_loss: 0.7982 - val_accuracy: 0.7221\n",
            "Epoch 58/200\n",
            "48000/48000 [==============================] - 1s 15us/step - loss: 0.9604 - accuracy: 0.6546 - val_loss: 0.7944 - val_accuracy: 0.7143\n",
            "Epoch 59/200\n",
            "48000/48000 [==============================] - 1s 16us/step - loss: 0.9553 - accuracy: 0.6568 - val_loss: 0.8452 - val_accuracy: 0.7113\n",
            "Epoch 60/200\n",
            "48000/48000 [==============================] - 1s 15us/step - loss: 0.9643 - accuracy: 0.6510 - val_loss: 0.8192 - val_accuracy: 0.7103\n",
            "Epoch 61/200\n",
            "48000/48000 [==============================] - 1s 15us/step - loss: 0.9653 - accuracy: 0.6519 - val_loss: 0.8001 - val_accuracy: 0.7097\n",
            "Epoch 62/200\n",
            "48000/48000 [==============================] - 1s 15us/step - loss: 0.9685 - accuracy: 0.6495 - val_loss: 0.8056 - val_accuracy: 0.7130\n",
            "Epoch 63/200\n",
            "48000/48000 [==============================] - 1s 17us/step - loss: 0.9423 - accuracy: 0.6626 - val_loss: 0.8223 - val_accuracy: 0.7023\n",
            "Epoch 64/200\n",
            "48000/48000 [==============================] - 1s 16us/step - loss: 0.9593 - accuracy: 0.6525 - val_loss: 0.7943 - val_accuracy: 0.7218\n",
            "Epoch 65/200\n",
            "48000/48000 [==============================] - 1s 15us/step - loss: 0.9608 - accuracy: 0.6531 - val_loss: 0.7861 - val_accuracy: 0.7195\n",
            "Epoch 66/200\n",
            "48000/48000 [==============================] - 1s 15us/step - loss: 0.9480 - accuracy: 0.6565 - val_loss: 0.7939 - val_accuracy: 0.7148\n",
            "Epoch 67/200\n",
            "48000/48000 [==============================] - 1s 15us/step - loss: 0.9475 - accuracy: 0.6559 - val_loss: 0.7838 - val_accuracy: 0.7197\n",
            "Epoch 68/200\n",
            "48000/48000 [==============================] - 1s 16us/step - loss: 0.9385 - accuracy: 0.6601 - val_loss: 0.7902 - val_accuracy: 0.7218\n",
            "Epoch 69/200\n",
            "48000/48000 [==============================] - 1s 16us/step - loss: 0.9393 - accuracy: 0.6625 - val_loss: 0.7982 - val_accuracy: 0.7148\n",
            "Epoch 70/200\n",
            "48000/48000 [==============================] - 1s 15us/step - loss: 0.9481 - accuracy: 0.6586 - val_loss: 0.7933 - val_accuracy: 0.7230\n",
            "Epoch 71/200\n",
            "48000/48000 [==============================] - 1s 16us/step - loss: 0.9387 - accuracy: 0.6601 - val_loss: 0.7831 - val_accuracy: 0.7213\n",
            "Epoch 72/200\n",
            "48000/48000 [==============================] - 1s 15us/step - loss: 0.9411 - accuracy: 0.6611 - val_loss: 0.8029 - val_accuracy: 0.7180\n",
            "Epoch 73/200\n",
            "48000/48000 [==============================] - 1s 16us/step - loss: 0.9528 - accuracy: 0.6540 - val_loss: 0.7879 - val_accuracy: 0.7212\n",
            "Epoch 74/200\n",
            "48000/48000 [==============================] - 1s 15us/step - loss: 0.9503 - accuracy: 0.6566 - val_loss: 0.8144 - val_accuracy: 0.7138\n",
            "Epoch 75/200\n",
            "48000/48000 [==============================] - 1s 16us/step - loss: 0.9539 - accuracy: 0.6569 - val_loss: 0.7897 - val_accuracy: 0.7278\n",
            "Epoch 76/200\n",
            "48000/48000 [==============================] - 1s 15us/step - loss: 0.9384 - accuracy: 0.6615 - val_loss: 0.7893 - val_accuracy: 0.7116\n",
            "Epoch 77/200\n",
            "48000/48000 [==============================] - 1s 15us/step - loss: 0.9411 - accuracy: 0.6624 - val_loss: 0.7824 - val_accuracy: 0.7196\n",
            "Epoch 78/200\n",
            "48000/48000 [==============================] - 1s 15us/step - loss: 0.9368 - accuracy: 0.6618 - val_loss: 0.7829 - val_accuracy: 0.7212\n",
            "Epoch 79/200\n",
            "48000/48000 [==============================] - 1s 15us/step - loss: 0.9325 - accuracy: 0.6633 - val_loss: 0.7850 - val_accuracy: 0.7279\n",
            "Epoch 80/200\n",
            "48000/48000 [==============================] - 1s 15us/step - loss: 0.9415 - accuracy: 0.6557 - val_loss: 0.7981 - val_accuracy: 0.7050\n",
            "Epoch 81/200\n",
            "48000/48000 [==============================] - 1s 15us/step - loss: 0.9382 - accuracy: 0.6608 - val_loss: 0.7753 - val_accuracy: 0.7252\n",
            "Epoch 82/200\n",
            "48000/48000 [==============================] - 1s 17us/step - loss: 0.9451 - accuracy: 0.6588 - val_loss: 0.7850 - val_accuracy: 0.7195\n",
            "Epoch 83/200\n",
            "48000/48000 [==============================] - 1s 16us/step - loss: 0.9374 - accuracy: 0.6619 - val_loss: 0.7899 - val_accuracy: 0.7203\n",
            "Epoch 84/200\n",
            "48000/48000 [==============================] - 1s 17us/step - loss: 0.9397 - accuracy: 0.6603 - val_loss: 0.7886 - val_accuracy: 0.7238\n",
            "Epoch 85/200\n",
            "48000/48000 [==============================] - 1s 17us/step - loss: 0.9464 - accuracy: 0.6565 - val_loss: 0.8048 - val_accuracy: 0.7174\n",
            "Epoch 86/200\n",
            "48000/48000 [==============================] - 1s 17us/step - loss: 0.9501 - accuracy: 0.6543 - val_loss: 0.7668 - val_accuracy: 0.7297\n",
            "Epoch 87/200\n",
            "48000/48000 [==============================] - 1s 16us/step - loss: 0.9513 - accuracy: 0.6544 - val_loss: 0.8116 - val_accuracy: 0.7162\n",
            "Epoch 88/200\n",
            "48000/48000 [==============================] - 1s 17us/step - loss: 0.9504 - accuracy: 0.6565 - val_loss: 0.7864 - val_accuracy: 0.7224\n",
            "Epoch 89/200\n",
            "48000/48000 [==============================] - 1s 17us/step - loss: 0.9522 - accuracy: 0.6557 - val_loss: 0.7891 - val_accuracy: 0.7198\n",
            "Epoch 90/200\n",
            "48000/48000 [==============================] - 1s 15us/step - loss: 0.9487 - accuracy: 0.6558 - val_loss: 0.7746 - val_accuracy: 0.7245\n",
            "Epoch 91/200\n",
            "48000/48000 [==============================] - 1s 15us/step - loss: 0.9501 - accuracy: 0.6554 - val_loss: 0.7956 - val_accuracy: 0.7147\n",
            "Epoch 92/200\n",
            "48000/48000 [==============================] - 1s 17us/step - loss: 0.9638 - accuracy: 0.6494 - val_loss: 0.7704 - val_accuracy: 0.7219\n",
            "Epoch 93/200\n",
            "48000/48000 [==============================] - 1s 15us/step - loss: 0.9487 - accuracy: 0.6573 - val_loss: 0.7884 - val_accuracy: 0.7212\n",
            "Epoch 94/200\n",
            "48000/48000 [==============================] - 1s 15us/step - loss: 0.9462 - accuracy: 0.6592 - val_loss: 0.7967 - val_accuracy: 0.7202\n",
            "Epoch 95/200\n",
            "48000/48000 [==============================] - 1s 16us/step - loss: 0.9529 - accuracy: 0.6579 - val_loss: 0.7968 - val_accuracy: 0.7236\n",
            "Epoch 96/200\n",
            "48000/48000 [==============================] - 1s 16us/step - loss: 0.9544 - accuracy: 0.6562 - val_loss: 0.7858 - val_accuracy: 0.7237\n",
            "Epoch 97/200\n",
            "48000/48000 [==============================] - 1s 17us/step - loss: 0.9583 - accuracy: 0.6531 - val_loss: 0.7872 - val_accuracy: 0.7205\n",
            "Epoch 98/200\n",
            "48000/48000 [==============================] - 1s 16us/step - loss: 0.9689 - accuracy: 0.6507 - val_loss: 0.8454 - val_accuracy: 0.7078\n",
            "Epoch 99/200\n",
            "48000/48000 [==============================] - 1s 16us/step - loss: 0.9674 - accuracy: 0.6506 - val_loss: 0.7948 - val_accuracy: 0.7196\n",
            "Epoch 100/200\n",
            "48000/48000 [==============================] - 1s 16us/step - loss: 0.9658 - accuracy: 0.6494 - val_loss: 0.7763 - val_accuracy: 0.7277\n",
            "Epoch 101/200\n",
            "48000/48000 [==============================] - 1s 16us/step - loss: 0.9562 - accuracy: 0.6562 - val_loss: 0.7907 - val_accuracy: 0.7248\n",
            "Epoch 102/200\n",
            "48000/48000 [==============================] - 1s 16us/step - loss: 0.9613 - accuracy: 0.6515 - val_loss: 0.8133 - val_accuracy: 0.7193\n",
            "Epoch 103/200\n",
            "48000/48000 [==============================] - 1s 15us/step - loss: 0.9543 - accuracy: 0.6527 - val_loss: 0.7971 - val_accuracy: 0.7214\n",
            "Epoch 104/200\n",
            "48000/48000 [==============================] - 1s 15us/step - loss: 0.9593 - accuracy: 0.6544 - val_loss: 0.7795 - val_accuracy: 0.7280\n",
            "Epoch 105/200\n",
            "48000/48000 [==============================] - 1s 15us/step - loss: 0.9533 - accuracy: 0.6552 - val_loss: 0.7901 - val_accuracy: 0.7238\n",
            "Epoch 106/200\n",
            "48000/48000 [==============================] - 1s 15us/step - loss: 0.9404 - accuracy: 0.6603 - val_loss: 0.7722 - val_accuracy: 0.7299\n",
            "Epoch 107/200\n",
            "48000/48000 [==============================] - 1s 16us/step - loss: 0.9454 - accuracy: 0.6555 - val_loss: 0.8173 - val_accuracy: 0.7157\n",
            "Epoch 108/200\n",
            "48000/48000 [==============================] - 1s 17us/step - loss: 0.9762 - accuracy: 0.6459 - val_loss: 0.7917 - val_accuracy: 0.7184\n",
            "Epoch 109/200\n",
            "48000/48000 [==============================] - 1s 15us/step - loss: 0.9625 - accuracy: 0.6516 - val_loss: 0.7686 - val_accuracy: 0.7312\n",
            "Epoch 110/200\n",
            "48000/48000 [==============================] - 1s 16us/step - loss: 0.9482 - accuracy: 0.6562 - val_loss: 0.7877 - val_accuracy: 0.7237\n",
            "Epoch 111/200\n",
            "48000/48000 [==============================] - 1s 16us/step - loss: 0.9509 - accuracy: 0.6582 - val_loss: 0.7766 - val_accuracy: 0.7306\n",
            "Epoch 112/200\n",
            "48000/48000 [==============================] - 1s 17us/step - loss: 0.9504 - accuracy: 0.6564 - val_loss: 0.7783 - val_accuracy: 0.7275\n",
            "Epoch 113/200\n",
            "48000/48000 [==============================] - 1s 17us/step - loss: 0.9452 - accuracy: 0.6578 - val_loss: 0.7650 - val_accuracy: 0.7263\n",
            "Epoch 114/200\n",
            "48000/48000 [==============================] - 1s 16us/step - loss: 0.9438 - accuracy: 0.6591 - val_loss: 0.7965 - val_accuracy: 0.7211\n",
            "Epoch 115/200\n",
            "48000/48000 [==============================] - 1s 17us/step - loss: 0.9437 - accuracy: 0.6584 - val_loss: 0.7540 - val_accuracy: 0.7328\n",
            "Epoch 116/200\n",
            "48000/48000 [==============================] - 1s 16us/step - loss: 0.9504 - accuracy: 0.6583 - val_loss: 0.8006 - val_accuracy: 0.7118\n",
            "Epoch 117/200\n",
            "48000/48000 [==============================] - 1s 16us/step - loss: 0.9363 - accuracy: 0.6605 - val_loss: 0.7713 - val_accuracy: 0.7292\n",
            "Epoch 118/200\n",
            "48000/48000 [==============================] - 1s 17us/step - loss: 0.9413 - accuracy: 0.6623 - val_loss: 0.7757 - val_accuracy: 0.7266\n",
            "Epoch 119/200\n",
            "48000/48000 [==============================] - 1s 17us/step - loss: 0.9296 - accuracy: 0.6628 - val_loss: 0.7607 - val_accuracy: 0.7291\n",
            "Epoch 120/200\n",
            "48000/48000 [==============================] - 1s 17us/step - loss: 0.9281 - accuracy: 0.6639 - val_loss: 0.7629 - val_accuracy: 0.7306\n",
            "Epoch 121/200\n",
            "48000/48000 [==============================] - 1s 17us/step - loss: 0.9387 - accuracy: 0.6599 - val_loss: 0.7617 - val_accuracy: 0.7290\n",
            "Epoch 122/200\n",
            "48000/48000 [==============================] - 1s 16us/step - loss: 0.9252 - accuracy: 0.6647 - val_loss: 0.7750 - val_accuracy: 0.7293\n",
            "Epoch 123/200\n",
            "48000/48000 [==============================] - 1s 16us/step - loss: 0.9327 - accuracy: 0.6643 - val_loss: 0.7835 - val_accuracy: 0.7188\n",
            "Epoch 124/200\n",
            "48000/48000 [==============================] - 1s 16us/step - loss: 0.9475 - accuracy: 0.6570 - val_loss: 0.7696 - val_accuracy: 0.7236\n",
            "Epoch 125/200\n",
            "48000/48000 [==============================] - 1s 16us/step - loss: 0.9461 - accuracy: 0.6553 - val_loss: 0.7911 - val_accuracy: 0.7241\n",
            "Epoch 126/200\n",
            "48000/48000 [==============================] - 1s 16us/step - loss: 0.9509 - accuracy: 0.6561 - val_loss: 0.7719 - val_accuracy: 0.7313\n",
            "Epoch 127/200\n",
            "48000/48000 [==============================] - 1s 15us/step - loss: 0.9319 - accuracy: 0.6616 - val_loss: 0.7897 - val_accuracy: 0.7189\n",
            "Epoch 128/200\n",
            "48000/48000 [==============================] - 1s 15us/step - loss: 0.9574 - accuracy: 0.6553 - val_loss: 0.7974 - val_accuracy: 0.7170\n",
            "Epoch 129/200\n",
            "48000/48000 [==============================] - 1s 15us/step - loss: 0.9456 - accuracy: 0.6568 - val_loss: 0.7748 - val_accuracy: 0.7237\n",
            "Epoch 130/200\n",
            "48000/48000 [==============================] - 1s 15us/step - loss: 0.9440 - accuracy: 0.6565 - val_loss: 0.7784 - val_accuracy: 0.7270\n",
            "Epoch 131/200\n",
            "48000/48000 [==============================] - 1s 16us/step - loss: 0.9445 - accuracy: 0.6578 - val_loss: 0.7813 - val_accuracy: 0.7211\n",
            "Epoch 132/200\n",
            "48000/48000 [==============================] - 1s 15us/step - loss: 0.9491 - accuracy: 0.6572 - val_loss: 0.7826 - val_accuracy: 0.7246\n",
            "Epoch 133/200\n",
            "48000/48000 [==============================] - 1s 15us/step - loss: 0.9480 - accuracy: 0.6560 - val_loss: 0.7669 - val_accuracy: 0.7268\n",
            "Epoch 134/200\n",
            "48000/48000 [==============================] - 1s 15us/step - loss: 0.9566 - accuracy: 0.6523 - val_loss: 0.7717 - val_accuracy: 0.7286\n",
            "Epoch 135/200\n",
            "48000/48000 [==============================] - 1s 17us/step - loss: 0.9544 - accuracy: 0.6550 - val_loss: 0.7944 - val_accuracy: 0.7293\n",
            "Epoch 136/200\n",
            "48000/48000 [==============================] - 1s 17us/step - loss: 0.9692 - accuracy: 0.6455 - val_loss: 0.7937 - val_accuracy: 0.7193\n",
            "Epoch 137/200\n",
            "48000/48000 [==============================] - 1s 16us/step - loss: 0.9653 - accuracy: 0.6474 - val_loss: 0.8083 - val_accuracy: 0.7211\n",
            "Epoch 138/200\n",
            "48000/48000 [==============================] - 1s 15us/step - loss: 0.9640 - accuracy: 0.6476 - val_loss: 0.7806 - val_accuracy: 0.7267\n",
            "Epoch 139/200\n",
            "48000/48000 [==============================] - 1s 16us/step - loss: 0.9623 - accuracy: 0.6467 - val_loss: 0.7824 - val_accuracy: 0.7250\n",
            "Epoch 140/200\n",
            "48000/48000 [==============================] - 1s 16us/step - loss: 0.9594 - accuracy: 0.6519 - val_loss: 0.7794 - val_accuracy: 0.7251\n",
            "Epoch 141/200\n",
            "48000/48000 [==============================] - 1s 17us/step - loss: 0.9482 - accuracy: 0.6521 - val_loss: 0.7714 - val_accuracy: 0.7252\n",
            "Epoch 142/200\n",
            "48000/48000 [==============================] - 1s 15us/step - loss: 0.9540 - accuracy: 0.6499 - val_loss: 0.8021 - val_accuracy: 0.7236\n",
            "Epoch 143/200\n",
            "48000/48000 [==============================] - 1s 15us/step - loss: 0.9398 - accuracy: 0.6611 - val_loss: 0.7854 - val_accuracy: 0.7228\n",
            "Epoch 144/200\n",
            "48000/48000 [==============================] - 1s 16us/step - loss: 0.9552 - accuracy: 0.6519 - val_loss: 0.7897 - val_accuracy: 0.7140\n",
            "Epoch 145/200\n",
            "48000/48000 [==============================] - 1s 15us/step - loss: 0.9622 - accuracy: 0.6504 - val_loss: 0.7909 - val_accuracy: 0.7324\n",
            "Epoch 146/200\n",
            "48000/48000 [==============================] - 1s 15us/step - loss: 0.9480 - accuracy: 0.6568 - val_loss: 0.7731 - val_accuracy: 0.7281\n",
            "Epoch 147/200\n",
            "48000/48000 [==============================] - 1s 16us/step - loss: 0.9486 - accuracy: 0.6571 - val_loss: 0.7668 - val_accuracy: 0.7295\n",
            "Epoch 148/200\n",
            "48000/48000 [==============================] - 1s 15us/step - loss: 0.9530 - accuracy: 0.6551 - val_loss: 0.7792 - val_accuracy: 0.7289\n",
            "Epoch 149/200\n",
            "48000/48000 [==============================] - 1s 15us/step - loss: 0.9534 - accuracy: 0.6532 - val_loss: 0.7891 - val_accuracy: 0.7212\n",
            "Epoch 150/200\n",
            "48000/48000 [==============================] - 1s 16us/step - loss: 0.9506 - accuracy: 0.6529 - val_loss: 0.7723 - val_accuracy: 0.7212\n",
            "Epoch 151/200\n",
            "48000/48000 [==============================] - 1s 15us/step - loss: 0.9595 - accuracy: 0.6512 - val_loss: 0.7910 - val_accuracy: 0.7205\n",
            "Epoch 152/200\n",
            "48000/48000 [==============================] - 1s 17us/step - loss: 0.9482 - accuracy: 0.6560 - val_loss: 0.7634 - val_accuracy: 0.7368\n",
            "Epoch 153/200\n",
            "48000/48000 [==============================] - 1s 16us/step - loss: 0.9569 - accuracy: 0.6546 - val_loss: 0.8030 - val_accuracy: 0.7299\n",
            "Epoch 154/200\n",
            "48000/48000 [==============================] - 1s 16us/step - loss: 0.9548 - accuracy: 0.6559 - val_loss: 0.7626 - val_accuracy: 0.7309\n",
            "Epoch 155/200\n",
            "48000/48000 [==============================] - 1s 16us/step - loss: 0.9552 - accuracy: 0.6536 - val_loss: 0.7798 - val_accuracy: 0.7321\n",
            "Epoch 156/200\n",
            "48000/48000 [==============================] - 1s 16us/step - loss: 0.9668 - accuracy: 0.6507 - val_loss: 0.7803 - val_accuracy: 0.7312\n",
            "Epoch 157/200\n",
            "48000/48000 [==============================] - 1s 16us/step - loss: 0.9580 - accuracy: 0.6538 - val_loss: 0.7920 - val_accuracy: 0.7289\n",
            "Epoch 158/200\n",
            "48000/48000 [==============================] - 1s 15us/step - loss: 0.9625 - accuracy: 0.6514 - val_loss: 0.7820 - val_accuracy: 0.7237\n",
            "Epoch 159/200\n",
            "48000/48000 [==============================] - 1s 15us/step - loss: 0.9551 - accuracy: 0.6556 - val_loss: 0.7707 - val_accuracy: 0.7256\n",
            "Epoch 160/200\n",
            "48000/48000 [==============================] - 1s 16us/step - loss: 0.9466 - accuracy: 0.6571 - val_loss: 0.7638 - val_accuracy: 0.7296\n",
            "Epoch 161/200\n",
            "48000/48000 [==============================] - 1s 16us/step - loss: 0.9471 - accuracy: 0.6565 - val_loss: 0.7636 - val_accuracy: 0.7318\n",
            "Epoch 162/200\n",
            "48000/48000 [==============================] - 1s 16us/step - loss: 0.9498 - accuracy: 0.6539 - val_loss: 0.7780 - val_accuracy: 0.7215\n",
            "Epoch 163/200\n",
            "48000/48000 [==============================] - 1s 16us/step - loss: 0.9475 - accuracy: 0.6579 - val_loss: 0.7751 - val_accuracy: 0.7220\n",
            "Epoch 164/200\n",
            "48000/48000 [==============================] - 1s 16us/step - loss: 0.9543 - accuracy: 0.6529 - val_loss: 0.7871 - val_accuracy: 0.7185\n",
            "Epoch 165/200\n",
            "48000/48000 [==============================] - 1s 15us/step - loss: 0.9509 - accuracy: 0.6561 - val_loss: 0.7639 - val_accuracy: 0.7234\n",
            "Epoch 166/200\n",
            "48000/48000 [==============================] - 1s 15us/step - loss: 0.9477 - accuracy: 0.6567 - val_loss: 0.7752 - val_accuracy: 0.7258\n",
            "Epoch 167/200\n",
            "48000/48000 [==============================] - 1s 15us/step - loss: 0.9458 - accuracy: 0.6574 - val_loss: 0.7661 - val_accuracy: 0.7302\n",
            "Epoch 168/200\n",
            "48000/48000 [==============================] - 1s 15us/step - loss: 0.9439 - accuracy: 0.6585 - val_loss: 0.7633 - val_accuracy: 0.7303\n",
            "Epoch 169/200\n",
            "48000/48000 [==============================] - 1s 16us/step - loss: 0.9478 - accuracy: 0.6553 - val_loss: 0.7544 - val_accuracy: 0.7316\n",
            "Epoch 170/200\n",
            "48000/48000 [==============================] - 1s 15us/step - loss: 0.9458 - accuracy: 0.6570 - val_loss: 0.7829 - val_accuracy: 0.7272\n",
            "Epoch 171/200\n",
            "48000/48000 [==============================] - 1s 15us/step - loss: 0.9491 - accuracy: 0.6577 - val_loss: 0.7705 - val_accuracy: 0.7303\n",
            "Epoch 172/200\n",
            "48000/48000 [==============================] - 1s 15us/step - loss: 0.9456 - accuracy: 0.6589 - val_loss: 0.7827 - val_accuracy: 0.7242\n",
            "Epoch 173/200\n",
            "48000/48000 [==============================] - 1s 16us/step - loss: 0.9475 - accuracy: 0.6540 - val_loss: 0.7671 - val_accuracy: 0.7256\n",
            "Epoch 174/200\n",
            "48000/48000 [==============================] - 1s 16us/step - loss: 0.9425 - accuracy: 0.6572 - val_loss: 0.7597 - val_accuracy: 0.7347\n",
            "Epoch 175/200\n",
            "48000/48000 [==============================] - 1s 16us/step - loss: 0.9472 - accuracy: 0.6573 - val_loss: 0.7592 - val_accuracy: 0.7274\n",
            "Epoch 176/200\n",
            "48000/48000 [==============================] - 1s 17us/step - loss: 0.9423 - accuracy: 0.6568 - val_loss: 0.7947 - val_accuracy: 0.7218\n",
            "Epoch 177/200\n",
            "48000/48000 [==============================] - 1s 16us/step - loss: 0.9479 - accuracy: 0.6560 - val_loss: 0.7833 - val_accuracy: 0.7270\n",
            "Epoch 178/200\n",
            "48000/48000 [==============================] - 1s 16us/step - loss: 0.9437 - accuracy: 0.6572 - val_loss: 0.7803 - val_accuracy: 0.7218\n",
            "Epoch 179/200\n",
            "48000/48000 [==============================] - 1s 17us/step - loss: 0.9375 - accuracy: 0.6605 - val_loss: 0.7772 - val_accuracy: 0.7202\n",
            "Epoch 180/200\n",
            "48000/48000 [==============================] - 1s 17us/step - loss: 0.9548 - accuracy: 0.6526 - val_loss: 0.7923 - val_accuracy: 0.7157\n",
            "Epoch 181/200\n",
            "48000/48000 [==============================] - 1s 17us/step - loss: 0.9652 - accuracy: 0.6488 - val_loss: 0.7683 - val_accuracy: 0.7330\n",
            "Epoch 182/200\n",
            "48000/48000 [==============================] - 1s 17us/step - loss: 0.9528 - accuracy: 0.6520 - val_loss: 0.7991 - val_accuracy: 0.7197\n",
            "Epoch 183/200\n",
            "48000/48000 [==============================] - 1s 16us/step - loss: 0.9604 - accuracy: 0.6503 - val_loss: 0.7750 - val_accuracy: 0.7288\n",
            "Epoch 184/200\n",
            "48000/48000 [==============================] - 1s 16us/step - loss: 0.9625 - accuracy: 0.6482 - val_loss: 0.7790 - val_accuracy: 0.7331\n",
            "Epoch 185/200\n",
            "48000/48000 [==============================] - 1s 16us/step - loss: 0.9714 - accuracy: 0.6448 - val_loss: 0.7881 - val_accuracy: 0.7237\n",
            "Epoch 186/200\n",
            "48000/48000 [==============================] - 1s 16us/step - loss: 0.9583 - accuracy: 0.6503 - val_loss: 0.8241 - val_accuracy: 0.7080\n",
            "Epoch 187/200\n",
            "48000/48000 [==============================] - 1s 15us/step - loss: 0.9615 - accuracy: 0.6479 - val_loss: 0.7876 - val_accuracy: 0.7293\n",
            "Epoch 188/200\n",
            "48000/48000 [==============================] - 1s 16us/step - loss: 0.9689 - accuracy: 0.6456 - val_loss: 0.8005 - val_accuracy: 0.7260\n",
            "Epoch 189/200\n",
            "48000/48000 [==============================] - 1s 16us/step - loss: 0.9612 - accuracy: 0.6505 - val_loss: 0.7891 - val_accuracy: 0.7278\n",
            "Epoch 190/200\n",
            "48000/48000 [==============================] - 1s 15us/step - loss: 0.9681 - accuracy: 0.6467 - val_loss: 0.7803 - val_accuracy: 0.7270\n",
            "Epoch 191/200\n",
            "48000/48000 [==============================] - 1s 15us/step - loss: 0.9705 - accuracy: 0.6460 - val_loss: 0.7783 - val_accuracy: 0.7254\n",
            "Epoch 192/200\n",
            "48000/48000 [==============================] - 1s 15us/step - loss: 0.9608 - accuracy: 0.6500 - val_loss: 0.7704 - val_accuracy: 0.7297\n",
            "Epoch 193/200\n",
            "48000/48000 [==============================] - 1s 15us/step - loss: 0.9670 - accuracy: 0.6483 - val_loss: 0.7749 - val_accuracy: 0.7240\n",
            "Epoch 194/200\n",
            "48000/48000 [==============================] - 1s 15us/step - loss: 0.9552 - accuracy: 0.6544 - val_loss: 0.7684 - val_accuracy: 0.7231\n",
            "Epoch 195/200\n",
            "48000/48000 [==============================] - 1s 16us/step - loss: 0.9606 - accuracy: 0.6518 - val_loss: 0.7824 - val_accuracy: 0.7251\n",
            "Epoch 196/200\n",
            "48000/48000 [==============================] - 1s 15us/step - loss: 0.9599 - accuracy: 0.6505 - val_loss: 0.7840 - val_accuracy: 0.7243\n",
            "Epoch 197/200\n",
            "48000/48000 [==============================] - 1s 16us/step - loss: 0.9575 - accuracy: 0.6499 - val_loss: 0.7733 - val_accuracy: 0.7354\n",
            "Epoch 198/200\n",
            "48000/48000 [==============================] - 1s 15us/step - loss: 0.9601 - accuracy: 0.6527 - val_loss: 0.7763 - val_accuracy: 0.7214\n",
            "Epoch 199/200\n",
            "48000/48000 [==============================] - 1s 17us/step - loss: 0.9567 - accuracy: 0.6500 - val_loss: 0.7805 - val_accuracy: 0.7178\n",
            "Epoch 200/200\n",
            "48000/48000 [==============================] - 1s 17us/step - loss: 0.9537 - accuracy: 0.6541 - val_loss: 0.7865 - val_accuracy: 0.7292\n"
          ],
          "name": "stdout"
        }
      ]
    },
    {
      "cell_type": "code",
      "metadata": {
        "id": "TTqtpWcZg83d",
        "colab_type": "code",
        "colab": {
          "base_uri": "https://localhost:8080/",
          "height": 50
        },
        "outputId": "2683e729-25f6-4dd2-e508-5421fa841c70"
      },
      "source": [
        "\n",
        "score = model.evaluate(test_features, y_test, verbose=0)\n",
        "print('Test loss:', score[0])\n",
        "print('Test accuracy:', score[1]*100)"
      ],
      "execution_count": 23,
      "outputs": [
        {
          "output_type": "stream",
          "text": [
            "Test loss: 0.7761267954826355\n",
            "Test accuracy: 73.35000038146973\n"
          ],
          "name": "stdout"
        }
      ]
    },
    {
      "cell_type": "code",
      "metadata": {
        "id": "7n1AGit2hRyv",
        "colab_type": "code",
        "colab": {
          "base_uri": "https://localhost:8080/",
          "height": 279
        },
        "outputId": "6dc9bb94-f479-4d7c-f624-276f262d3f22"
      },
      "source": [
        "#VIsualizing the training performance\n",
        "plt.figure(figsize=(12, 8))\n",
        "\n",
        "plt.subplot(2, 2, 1)\n",
        "plt.plot(history.history['loss'], label='Loss')\n",
        "plt.plot(history.history['val_loss'], label='val_Loss')\n",
        "plt.legend()\n",
        "plt.title('Loss evolution')\n",
        "\n",
        "plt.subplot(2, 2, 2)\n",
        "plt.plot(history.history['accuracy'], label='accuracy')\n",
        "plt.plot(history.history['val_accuracy'], label='val_accuracy')\n",
        "plt.legend()\n",
        "plt.title('Accuracy evolution')"
      ],
      "execution_count": 24,
      "outputs": [
        {
          "output_type": "execute_result",
          "data": {
            "text/plain": [
              "Text(0.5, 1.0, 'Accuracy evolution')"
            ]
          },
          "metadata": {
            "tags": []
          },
          "execution_count": 24
        },
        {
          "output_type": "display_data",
          "data": {
            "image/png": "[encoded data removed]",
            "text/plain": [
              "<Figure size 864x576 with 2 Axes>"
            ]
          },
          "metadata": {
            "tags": [],
            "needs_background": "light"
          }
        }
      ]
    },
    {
      "cell_type": "code",
      "metadata": {
        "id": "8wlhlGfciowS",
        "colab_type": "code",
        "colab": {}
      },
      "source": [
        "predicted_classes = model.predict_classes(test_features)"
      ],
      "execution_count": 0,
      "outputs": []
    },
    {
      "cell_type": "code",
      "metadata": {
        "id": "bUyCb_jcixdJ",
        "colab_type": "code",
        "colab": {
          "base_uri": "https://localhost:8080/",
          "height": 302
        },
        "outputId": "a7f35f5d-82a4-429d-d8e5-ee98dafe8098"
      },
      "source": [
        "from sklearn.metrics import classification_report\n",
        "target_names = [\"Class {}\".format(i) for i in range(10)]\n",
        "print(classification_report(y_true, predicted_classes, target_names=target_names))"
      ],
      "execution_count": 42,
      "outputs": [
        {
          "output_type": "stream",
          "text": [
            "              precision    recall  f1-score   support\n",
            "\n",
            "     Class 0       0.63      0.70      0.66      1000\n",
            "     Class 1       0.94      0.92      0.93      1000\n",
            "     Class 2       0.57      0.59      0.58      1000\n",
            "     Class 3       0.64      0.84      0.73      1000\n",
            "     Class 4       0.61      0.59      0.60      1000\n",
            "     Class 5       0.91      0.84      0.88      1000\n",
            "     Class 6       0.44      0.31      0.36      1000\n",
            "     Class 7       0.82      0.84      0.83      1000\n",
            "     Class 8       0.90      0.82      0.86      1000\n",
            "     Class 9       0.84      0.89      0.86      1000\n",
            "\n",
            "    accuracy                           0.73     10000\n",
            "   macro avg       0.73      0.73      0.73     10000\n",
            "weighted avg       0.73      0.73      0.73     10000\n",
            "\n"
          ],
          "name": "stdout"
        }
      ]
    },
    {
      "cell_type": "code",
      "metadata": {
        "id": "fhKj5Aven_cq",
        "colab_type": "code",
        "colab": {}
      },
      "source": [
        ""
      ],
      "execution_count": 0,
      "outputs": []
    }
  ]
}