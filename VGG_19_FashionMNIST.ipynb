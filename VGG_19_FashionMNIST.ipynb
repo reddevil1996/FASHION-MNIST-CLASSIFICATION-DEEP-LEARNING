{
  "nbformat": 4,
  "nbformat_minor": 0,
  "metadata": {
    "colab": {
      "name": "VGG-19 FashionMNIST",
      "provenance": [],
      "collapsed_sections": []
    },
    "kernelspec": {
      "name": "python3",
      "display_name": "Python 3"
    },
    "accelerator": "GPU"
  },
  "cells": [
    {
      "cell_type": "code",
      "metadata": {
        "id": "hZyo6N1iXY9C",
        "colab_type": "code",
        "colab": {
          "base_uri": "https://localhost:8080/",
          "height": 34
        },
        "outputId": "025bd433-9dff-421e-9acb-3990b8f688f8"
      },
      "source": [
        "from google.colab import drive\n",
        "drive.mount('/content/drive')"
      ],
      "execution_count": null,
      "outputs": [
        {
          "output_type": "stream",
          "text": [
            "Drive already mounted at /content/drive; to attempt to forcibly remount, call drive.mount(\"/content/drive\", force_remount=True).\n"
          ],
          "name": "stdout"
        }
      ]
    },
    {
      "cell_type": "code",
      "metadata": {
        "id": "T_Yt-i_NXqAs",
        "colab_type": "code",
        "colab": {}
      },
      "source": [
        "import numpy as np\n",
        "import pandas as pd\n",
        "import matplotlib.pyplot as plt\n",
        "from keras.utils import to_categorical\n",
        "\n",
        "# Load training and test data into dataframes\n",
        "data_train = pd.read_csv('/content/drive/My Drive/fashion-mnist_train.csv')\n",
        "data_test = pd.read_csv('/content/drive/My Drive/fashion-mnist_test.csv')\n",
        "\n",
        "# X forms the training images, and y forms the training labels\n",
        "X = np.array(data_train.iloc[:, 1:])\n",
        "y = to_categorical(np.array(data_train.iloc[:, 0]))\n",
        "\n",
        "# X_test forms the test images, and y_test forms the test labels\n",
        "X_test = np.array(data_test.iloc[:, 1:])\n",
        "y_test = to_categorical(np.array(data_test.iloc[:, 0]))"
      ],
      "execution_count": 30,
      "outputs": []
    },
    {
      "cell_type": "code",
      "metadata": {
        "id": "pEhJsYk2YXqn",
        "colab_type": "code",
        "colab": {
          "base_uri": "https://localhost:8080/",
          "height": 34
        },
        "outputId": "12b00b5b-c234-42fb-a9ff-3bf602f9215a"
      },
      "source": [
        "# Convert the training and test images into 3 channels\n",
        "X = np.dstack([X] * 3)\n",
        "X_test = np.dstack([X_test] * 3)\n",
        "\n",
        "# Display their new shapes\n",
        "X.shape, X_test.shape"
      ],
      "execution_count": 31,
      "outputs": [
        {
          "output_type": "execute_result",
          "data": {
            "text/plain": [
              "((60000, 784, 3), (10000, 784, 3))"
            ]
          },
          "metadata": {
            "tags": []
          },
          "execution_count": 31
        }
      ]
    },
    {
      "cell_type": "code",
      "metadata": {
        "id": "ZfQi6N12Yc_q",
        "colab_type": "code",
        "colab": {
          "base_uri": "https://localhost:8080/",
          "height": 34
        },
        "outputId": "e96119f8-e47e-4093-e465-01b282b78fa5"
      },
      "source": [
        "# Reshape images as per the tensor format required by tensorflow\n",
        "X = X.reshape(-1, 28,28,3)\n",
        "X_test= X_test.reshape (-1,28,28,3)\n",
        "\n",
        "# Display the new shape\n",
        "X.shape, X_test.shape"
      ],
      "execution_count": 32,
      "outputs": [
        {
          "output_type": "execute_result",
          "data": {
            "text/plain": [
              "((60000, 28, 28, 3), (10000, 28, 28, 3))"
            ]
          },
          "metadata": {
            "tags": []
          },
          "execution_count": 32
        }
      ]
    },
    {
      "cell_type": "code",
      "metadata": {
        "id": "49FZinZTYiHF",
        "colab_type": "code",
        "colab": {}
      },
      "source": [
        "# Resize the images as 48 * 48 as required by VGG19\n",
        "from keras.preprocessing.image import img_to_array, array_to_img\n",
        "\n",
        "X = np.asarray([img_to_array(array_to_img(im, scale=False).resize((48,48))) for im in X])\n",
        "X_test = np.asarray([img_to_array(array_to_img(im, scale=False).resize((48,48))) for im in X_test])\n"
      ],
      "execution_count": 33,
      "outputs": []
    },
    {
      "cell_type": "code",
      "metadata": {
        "id": "8QnEuVjIYuFn",
        "colab_type": "code",
        "colab": {}
      },
      "source": [
        "# Normalise the data and change data type\n",
        "X = X.astype('float32')\n",
        "X /= 255\n",
        "\n",
        "X_test = X_test.astype('float32')\n",
        "X_test /= 255"
      ],
      "execution_count": 34,
      "outputs": []
    },
    {
      "cell_type": "code",
      "metadata": {
        "id": "5yVbE-i-ZG0Q",
        "colab_type": "code",
        "colab": {
          "base_uri": "https://localhost:8080/",
          "height": 34
        },
        "outputId": "f77c6878-38dd-4bef-8339-a9ebf78bb639"
      },
      "source": [
        "from sklearn.model_selection import train_test_split\n",
        "\n",
        "# Here I split original training data to sub-training (80%) and validation data (20%)\n",
        "X_train, X_val, y_train, y_val = train_test_split(X, y, test_size=0.2, random_state=13)\n",
        "\n",
        "# Check the data size whether it is as per tensorflow and VGG19 requirement\n",
        "X_train.shape, X_val.shape, y_train.shape, y_val.shape"
      ],
      "execution_count": 35,
      "outputs": [
        {
          "output_type": "execute_result",
          "data": {
            "text/plain": [
              "((48000, 48, 48, 3), (12000, 48, 48, 3), (48000, 10), (12000, 10))"
            ]
          },
          "metadata": {
            "tags": []
          },
          "execution_count": 35
        }
      ]
    },
    {
      "cell_type": "code",
      "metadata": {
        "id": "OxxVoLP1dq97",
        "colab_type": "code",
        "colab": {}
      },
      "source": [
        "from keras.applications import VGG19\n",
        "\n",
        "# Create the base model of VGG19\n",
        "vgg19 = VGG19(weights='imagenet', include_top=False, input_shape = (48, 48, 3), classes = 10)"
      ],
      "execution_count": 36,
      "outputs": []
    },
    {
      "cell_type": "code",
      "metadata": {
        "id": "OiGqqijhdzZf",
        "colab_type": "code",
        "colab": {
          "base_uri": "https://localhost:8080/",
          "height": 890
        },
        "outputId": "23e9cf71-292c-48ae-ff17-7c6eda4b036f"
      },
      "source": [
        "vgg19.summary()"
      ],
      "execution_count": 37,
      "outputs": [
        {
          "output_type": "stream",
          "text": [
            "Model: \"vgg19\"\n",
            "_________________________________________________________________\n",
            "Layer (type)                 Output Shape              Param #   \n",
            "=================================================================\n",
            "input_2 (InputLayer)         (None, 48, 48, 3)         0         \n",
            "_________________________________________________________________\n",
            "block1_conv1 (Conv2D)        (None, 48, 48, 64)        1792      \n",
            "_________________________________________________________________\n",
            "block1_conv2 (Conv2D)        (None, 48, 48, 64)        36928     \n",
            "_________________________________________________________________\n",
            "block1_pool (MaxPooling2D)   (None, 24, 24, 64)        0         \n",
            "_________________________________________________________________\n",
            "block2_conv1 (Conv2D)        (None, 24, 24, 128)       73856     \n",
            "_________________________________________________________________\n",
            "block2_conv2 (Conv2D)        (None, 24, 24, 128)       147584    \n",
            "_________________________________________________________________\n",
            "block2_pool (MaxPooling2D)   (None, 12, 12, 128)       0         \n",
            "_________________________________________________________________\n",
            "block3_conv1 (Conv2D)        (None, 12, 12, 256)       295168    \n",
            "_________________________________________________________________\n",
            "block3_conv2 (Conv2D)        (None, 12, 12, 256)       590080    \n",
            "_________________________________________________________________\n",
            "block3_conv3 (Conv2D)        (None, 12, 12, 256)       590080    \n",
            "_________________________________________________________________\n",
            "block3_conv4 (Conv2D)        (None, 12, 12, 256)       590080    \n",
            "_________________________________________________________________\n",
            "block3_pool (MaxPooling2D)   (None, 6, 6, 256)         0         \n",
            "_________________________________________________________________\n",
            "block4_conv1 (Conv2D)        (None, 6, 6, 512)         1180160   \n",
            "_________________________________________________________________\n",
            "block4_conv2 (Conv2D)        (None, 6, 6, 512)         2359808   \n",
            "_________________________________________________________________\n",
            "block4_conv3 (Conv2D)        (None, 6, 6, 512)         2359808   \n",
            "_________________________________________________________________\n",
            "block4_conv4 (Conv2D)        (None, 6, 6, 512)         2359808   \n",
            "_________________________________________________________________\n",
            "block4_pool (MaxPooling2D)   (None, 3, 3, 512)         0         \n",
            "_________________________________________________________________\n",
            "block5_conv1 (Conv2D)        (None, 3, 3, 512)         2359808   \n",
            "_________________________________________________________________\n",
            "block5_conv2 (Conv2D)        (None, 3, 3, 512)         2359808   \n",
            "_________________________________________________________________\n",
            "block5_conv3 (Conv2D)        (None, 3, 3, 512)         2359808   \n",
            "_________________________________________________________________\n",
            "block5_conv4 (Conv2D)        (None, 3, 3, 512)         2359808   \n",
            "_________________________________________________________________\n",
            "block5_pool (MaxPooling2D)   (None, 1, 1, 512)         0         \n",
            "=================================================================\n",
            "Total params: 20,024,384\n",
            "Trainable params: 20,024,384\n",
            "Non-trainable params: 0\n",
            "_________________________________________________________________\n"
          ],
          "name": "stdout"
        }
      ]
    },
    {
      "cell_type": "code",
      "metadata": {
        "id": "fPusJXByd859",
        "colab_type": "code",
        "colab": {}
      },
      "source": [
        "from keras.applications.vgg19 import preprocess_input\n",
        "\n",
        "# Preprocessing the input \n",
        "X_train = preprocess_input(X_train)\n",
        "X_val = preprocess_input(X_val)\n",
        "X_test = preprocess_input(X_test)"
      ],
      "execution_count": 38,
      "outputs": []
    },
    {
      "cell_type": "code",
      "metadata": {
        "id": "YZ5_60VzeFx8",
        "colab_type": "code",
        "colab": {
          "base_uri": "https://localhost:8080/",
          "height": 67
        },
        "outputId": "4c9271ea-e055-45b5-ee3c-0ab93366920f"
      },
      "source": [
        "\n",
        "# Extracting features\n",
        "train_features = vgg19.predict(np.array(X_train), batch_size=256, verbose=1)\n",
        "test_features = vgg19.predict(np.array(X_test), batch_size=256, verbose=1)\n",
        "val_features = vgg19.predict(np.array(X_val), batch_size=256, verbose=1)"
      ],
      "execution_count": 39,
      "outputs": [
        {
          "output_type": "stream",
          "text": [
            "48000/48000 [==============================] - 30s 635us/step\n",
            "10000/10000 [==============================] - 6s 635us/step\n",
            "12000/12000 [==============================] - 8s 632us/step\n"
          ],
          "name": "stdout"
        }
      ]
    },
    {
      "cell_type": "code",
      "metadata": {
        "id": "2d8RBgKYeNZi",
        "colab_type": "code",
        "colab": {}
      },
      "source": [
        "# Saving the features so that they can be used for future\n",
        "np.savez(\"train_features\", train_features, y_train)\n",
        "np.savez(\"test_features\", test_features, y_test)\n",
        "np.savez(\"val_features\", val_features, y_val)"
      ],
      "execution_count": 40,
      "outputs": []
    },
    {
      "cell_type": "code",
      "metadata": {
        "id": "WM1ePeXkebvD",
        "colab_type": "code",
        "colab": {
          "base_uri": "https://localhost:8080/",
          "height": 67
        },
        "outputId": "8532dcfe-ee4e-4645-de5e-10fb67fda11e"
      },
      "source": [
        "# Current shape of features\n",
        "print(train_features.shape, \"\\n\",  test_features.shape, \"\\n\", val_features.shape)"
      ],
      "execution_count": 41,
      "outputs": [
        {
          "output_type": "stream",
          "text": [
            "(48000, 1, 1, 512) \n",
            " (10000, 1, 1, 512) \n",
            " (12000, 1, 1, 512)\n"
          ],
          "name": "stdout"
        }
      ]
    },
    {
      "cell_type": "code",
      "metadata": {
        "id": "gO2Jx1yZef1x",
        "colab_type": "code",
        "colab": {}
      },
      "source": [
        "# Flatten extracted features\n",
        "train_features = np.reshape(train_features, (48000, 1*1*512))\n",
        "test_features = np.reshape(test_features, (10000, 1*1*512))\n",
        "val_features = np.reshape(val_features, (12000, 1*1*512))"
      ],
      "execution_count": 42,
      "outputs": []
    },
    {
      "cell_type": "code",
      "metadata": {
        "id": "gXLWvFY9ejdI",
        "colab_type": "code",
        "colab": {}
      },
      "source": [
        "from keras.layers import Dense, Dropout\n",
        "from keras.models import Model\n",
        "from keras import models\n",
        "from keras import layers\n",
        "from keras import optimizers\n",
        "\n",
        "# Add Dense and Dropout layers on top of VGG19 pre-trained\n",
        "model = models.Sequential()\n",
        "model.add(layers.Dense(512, activation='relu', input_dim=1 * 1 * 512))\n",
        "model.add(layers.Dropout(0.5))\n",
        "model.add(layers.Dense(10, activation=\"softmax\"))"
      ],
      "execution_count": 43,
      "outputs": []
    },
    {
      "cell_type": "code",
      "metadata": {
        "id": "EsWVOyupgxyn",
        "colab_type": "code",
        "colab": {}
      },
      "source": [
        "import keras\n",
        "\n",
        "# Compile the model\n",
        "model.compile(loss=keras.losses.categorical_crossentropy,\n",
        "              optimizer=keras.optimizers.Adam(),\n",
        "              metrics=['accuracy'])"
      ],
      "execution_count": 44,
      "outputs": []
    },
    {
      "cell_type": "code",
      "metadata": {
        "id": "LFSaI3Y9g3Kw",
        "colab_type": "code",
        "colab": {
          "base_uri": "https://localhost:8080/",
          "height": 1000
        },
        "outputId": "52e69a47-949f-481c-91ed-70f515db6a4e"
      },
      "source": [
        "history = model.fit(train_features, y_train,\n",
        "          batch_size=256,\n",
        "          epochs=200,\n",
        "          verbose=1,\n",
        "          validation_data=(val_features, y_val))"
      ],
      "execution_count": 45,
      "outputs": [
        {
          "output_type": "stream",
          "text": [
            "Train on 48000 samples, validate on 12000 samples\n",
            "Epoch 1/200\n",
            "48000/48000 [==============================] - 1s 23us/step - loss: 2.5085 - accuracy: 0.2648 - val_loss: 1.7373 - val_accuracy: 0.3677\n",
            "Epoch 2/200\n",
            "48000/48000 [==============================] - 1s 22us/step - loss: 1.6430 - accuracy: 0.4127 - val_loss: 1.4987 - val_accuracy: 0.5038\n",
            "Epoch 3/200\n",
            "48000/48000 [==============================] - 1s 22us/step - loss: 1.4859 - accuracy: 0.4703 - val_loss: 1.3754 - val_accuracy: 0.5414\n",
            "Epoch 4/200\n",
            "48000/48000 [==============================] - 1s 23us/step - loss: 1.3953 - accuracy: 0.5008 - val_loss: 1.2968 - val_accuracy: 0.5772\n",
            "Epoch 5/200\n",
            "48000/48000 [==============================] - 1s 22us/step - loss: 1.3264 - accuracy: 0.5258 - val_loss: 1.2469 - val_accuracy: 0.5826\n",
            "Epoch 6/200\n",
            "48000/48000 [==============================] - 1s 21us/step - loss: 1.2763 - accuracy: 0.5453 - val_loss: 1.2056 - val_accuracy: 0.5629\n",
            "Epoch 7/200\n",
            "48000/48000 [==============================] - 1s 22us/step - loss: 1.2297 - accuracy: 0.5614 - val_loss: 1.1574 - val_accuracy: 0.5993\n",
            "Epoch 8/200\n",
            "48000/48000 [==============================] - 1s 21us/step - loss: 1.2003 - accuracy: 0.5708 - val_loss: 1.1251 - val_accuracy: 0.6080\n",
            "Epoch 9/200\n",
            "48000/48000 [==============================] - 1s 21us/step - loss: 1.1791 - accuracy: 0.5768 - val_loss: 1.0909 - val_accuracy: 0.6257\n",
            "Epoch 10/200\n",
            "48000/48000 [==============================] - 1s 21us/step - loss: 1.1501 - accuracy: 0.5876 - val_loss: 1.0735 - val_accuracy: 0.6215\n",
            "Epoch 11/200\n",
            "48000/48000 [==============================] - 1s 21us/step - loss: 1.1278 - accuracy: 0.5969 - val_loss: 1.0588 - val_accuracy: 0.6253\n",
            "Epoch 12/200\n",
            "48000/48000 [==============================] - 1s 21us/step - loss: 1.1061 - accuracy: 0.6035 - val_loss: 1.0575 - val_accuracy: 0.6277\n",
            "Epoch 13/200\n",
            "48000/48000 [==============================] - 1s 21us/step - loss: 1.0963 - accuracy: 0.6045 - val_loss: 1.0241 - val_accuracy: 0.6456\n",
            "Epoch 14/200\n",
            "48000/48000 [==============================] - 1s 21us/step - loss: 1.0810 - accuracy: 0.6109 - val_loss: 1.0457 - val_accuracy: 0.6342\n",
            "Epoch 15/200\n",
            "48000/48000 [==============================] - 1s 21us/step - loss: 1.0726 - accuracy: 0.6149 - val_loss: 1.0037 - val_accuracy: 0.6415\n",
            "Epoch 16/200\n",
            "48000/48000 [==============================] - 1s 21us/step - loss: 1.0645 - accuracy: 0.6184 - val_loss: 0.9741 - val_accuracy: 0.6543\n",
            "Epoch 17/200\n",
            "48000/48000 [==============================] - 1s 22us/step - loss: 1.0542 - accuracy: 0.6215 - val_loss: 0.9729 - val_accuracy: 0.6597\n",
            "Epoch 18/200\n",
            "48000/48000 [==============================] - 1s 21us/step - loss: 1.0504 - accuracy: 0.6205 - val_loss: 0.9549 - val_accuracy: 0.6680\n",
            "Epoch 19/200\n",
            "48000/48000 [==============================] - 1s 21us/step - loss: 1.0475 - accuracy: 0.6215 - val_loss: 0.9596 - val_accuracy: 0.6596\n",
            "Epoch 20/200\n",
            "48000/48000 [==============================] - 1s 21us/step - loss: 1.0320 - accuracy: 0.6290 - val_loss: 0.9553 - val_accuracy: 0.6709\n",
            "Epoch 21/200\n",
            "48000/48000 [==============================] - 1s 22us/step - loss: 1.0248 - accuracy: 0.6320 - val_loss: 0.9392 - val_accuracy: 0.6779\n",
            "Epoch 22/200\n",
            "48000/48000 [==============================] - 1s 22us/step - loss: 1.0185 - accuracy: 0.6332 - val_loss: 0.9438 - val_accuracy: 0.6717\n",
            "Epoch 23/200\n",
            "48000/48000 [==============================] - 1s 21us/step - loss: 1.0191 - accuracy: 0.6323 - val_loss: 0.9224 - val_accuracy: 0.6744\n",
            "Epoch 24/200\n",
            "48000/48000 [==============================] - 1s 21us/step - loss: 1.0194 - accuracy: 0.6330 - val_loss: 0.9109 - val_accuracy: 0.6783\n",
            "Epoch 25/200\n",
            "48000/48000 [==============================] - 1s 21us/step - loss: 1.0166 - accuracy: 0.6335 - val_loss: 0.9371 - val_accuracy: 0.6646\n",
            "Epoch 26/200\n",
            "48000/48000 [==============================] - 1s 21us/step - loss: 1.0124 - accuracy: 0.6390 - val_loss: 0.9465 - val_accuracy: 0.6653\n",
            "Epoch 27/200\n",
            "48000/48000 [==============================] - 1s 23us/step - loss: 1.0038 - accuracy: 0.6399 - val_loss: 0.9295 - val_accuracy: 0.6809\n",
            "Epoch 28/200\n",
            "48000/48000 [==============================] - 1s 21us/step - loss: 1.0059 - accuracy: 0.6404 - val_loss: 0.9149 - val_accuracy: 0.6776\n",
            "Epoch 29/200\n",
            "48000/48000 [==============================] - 1s 21us/step - loss: 0.9878 - accuracy: 0.6451 - val_loss: 0.8938 - val_accuracy: 0.6842\n",
            "Epoch 30/200\n",
            "48000/48000 [==============================] - 1s 21us/step - loss: 0.9959 - accuracy: 0.6417 - val_loss: 0.9039 - val_accuracy: 0.6834\n",
            "Epoch 31/200\n",
            "48000/48000 [==============================] - 1s 23us/step - loss: 0.9951 - accuracy: 0.6433 - val_loss: 0.9028 - val_accuracy: 0.6861\n",
            "Epoch 32/200\n",
            "48000/48000 [==============================] - 1s 21us/step - loss: 0.9943 - accuracy: 0.6429 - val_loss: 0.8795 - val_accuracy: 0.6883\n",
            "Epoch 33/200\n",
            "48000/48000 [==============================] - 1s 22us/step - loss: 0.9821 - accuracy: 0.6452 - val_loss: 0.8834 - val_accuracy: 0.6890\n",
            "Epoch 34/200\n",
            "48000/48000 [==============================] - 1s 21us/step - loss: 0.9751 - accuracy: 0.6519 - val_loss: 0.9081 - val_accuracy: 0.6807\n",
            "Epoch 35/200\n",
            "48000/48000 [==============================] - 1s 21us/step - loss: 0.9699 - accuracy: 0.6534 - val_loss: 0.8849 - val_accuracy: 0.6807\n",
            "Epoch 36/200\n",
            "48000/48000 [==============================] - 1s 21us/step - loss: 0.9784 - accuracy: 0.6458 - val_loss: 0.8748 - val_accuracy: 0.6934\n",
            "Epoch 37/200\n",
            "48000/48000 [==============================] - 1s 22us/step - loss: 0.9792 - accuracy: 0.6502 - val_loss: 0.8726 - val_accuracy: 0.6928\n",
            "Epoch 38/200\n",
            "48000/48000 [==============================] - 1s 21us/step - loss: 0.9796 - accuracy: 0.6492 - val_loss: 0.8582 - val_accuracy: 0.6997\n",
            "Epoch 39/200\n",
            "48000/48000 [==============================] - 1s 21us/step - loss: 0.9781 - accuracy: 0.6489 - val_loss: 0.8916 - val_accuracy: 0.6767\n",
            "Epoch 40/200\n",
            "48000/48000 [==============================] - 1s 21us/step - loss: 0.9717 - accuracy: 0.6513 - val_loss: 0.8603 - val_accuracy: 0.6988\n",
            "Epoch 41/200\n",
            "48000/48000 [==============================] - 1s 23us/step - loss: 0.9729 - accuracy: 0.6520 - val_loss: 0.8507 - val_accuracy: 0.7015\n",
            "Epoch 42/200\n",
            "48000/48000 [==============================] - 1s 22us/step - loss: 0.9717 - accuracy: 0.6505 - val_loss: 0.8563 - val_accuracy: 0.6927\n",
            "Epoch 43/200\n",
            "48000/48000 [==============================] - 1s 21us/step - loss: 0.9691 - accuracy: 0.6539 - val_loss: 0.8590 - val_accuracy: 0.6945\n",
            "Epoch 44/200\n",
            "48000/48000 [==============================] - 1s 22us/step - loss: 0.9575 - accuracy: 0.6571 - val_loss: 0.8318 - val_accuracy: 0.7031\n",
            "Epoch 45/200\n",
            "48000/48000 [==============================] - 1s 22us/step - loss: 0.9588 - accuracy: 0.6585 - val_loss: 0.8566 - val_accuracy: 0.6955\n",
            "Epoch 46/200\n",
            "48000/48000 [==============================] - 1s 23us/step - loss: 0.9597 - accuracy: 0.6554 - val_loss: 0.8523 - val_accuracy: 0.7012\n",
            "Epoch 47/200\n",
            "48000/48000 [==============================] - 1s 21us/step - loss: 0.9551 - accuracy: 0.6582 - val_loss: 0.8622 - val_accuracy: 0.6962\n",
            "Epoch 48/200\n",
            "48000/48000 [==============================] - 1s 21us/step - loss: 0.9669 - accuracy: 0.6526 - val_loss: 0.8473 - val_accuracy: 0.7004\n",
            "Epoch 49/200\n",
            "48000/48000 [==============================] - 1s 21us/step - loss: 0.9683 - accuracy: 0.6537 - val_loss: 0.8663 - val_accuracy: 0.7031\n",
            "Epoch 50/200\n",
            "48000/48000 [==============================] - 1s 21us/step - loss: 0.9719 - accuracy: 0.6514 - val_loss: 0.8361 - val_accuracy: 0.7070\n",
            "Epoch 51/200\n",
            "48000/48000 [==============================] - 1s 21us/step - loss: 0.9587 - accuracy: 0.6577 - val_loss: 0.8407 - val_accuracy: 0.7121\n",
            "Epoch 52/200\n",
            "48000/48000 [==============================] - 1s 21us/step - loss: 0.9513 - accuracy: 0.6599 - val_loss: 0.8297 - val_accuracy: 0.7106\n",
            "Epoch 53/200\n",
            "48000/48000 [==============================] - 1s 21us/step - loss: 0.9537 - accuracy: 0.6570 - val_loss: 0.8422 - val_accuracy: 0.7025\n",
            "Epoch 54/200\n",
            "48000/48000 [==============================] - 1s 21us/step - loss: 0.9557 - accuracy: 0.6578 - val_loss: 0.8317 - val_accuracy: 0.7048\n",
            "Epoch 55/200\n",
            "48000/48000 [==============================] - 1s 21us/step - loss: 0.9572 - accuracy: 0.6579 - val_loss: 0.8536 - val_accuracy: 0.7072\n",
            "Epoch 56/200\n",
            "48000/48000 [==============================] - 1s 22us/step - loss: 0.9660 - accuracy: 0.6536 - val_loss: 0.8567 - val_accuracy: 0.6948\n",
            "Epoch 57/200\n",
            "48000/48000 [==============================] - 1s 22us/step - loss: 0.9694 - accuracy: 0.6530 - val_loss: 0.8359 - val_accuracy: 0.6933\n",
            "Epoch 58/200\n",
            "48000/48000 [==============================] - 1s 23us/step - loss: 0.9639 - accuracy: 0.6536 - val_loss: 0.8312 - val_accuracy: 0.7077\n",
            "Epoch 59/200\n",
            "48000/48000 [==============================] - 1s 23us/step - loss: 0.9626 - accuracy: 0.6578 - val_loss: 0.8235 - val_accuracy: 0.7071\n",
            "Epoch 60/200\n",
            "48000/48000 [==============================] - 1s 23us/step - loss: 0.9666 - accuracy: 0.6547 - val_loss: 0.8452 - val_accuracy: 0.7001\n",
            "Epoch 61/200\n",
            "48000/48000 [==============================] - 1s 22us/step - loss: 0.9613 - accuracy: 0.6561 - val_loss: 0.8224 - val_accuracy: 0.7186\n",
            "Epoch 62/200\n",
            "48000/48000 [==============================] - 1s 21us/step - loss: 0.9633 - accuracy: 0.6546 - val_loss: 0.8193 - val_accuracy: 0.7146\n",
            "Epoch 63/200\n",
            "48000/48000 [==============================] - 1s 21us/step - loss: 0.9531 - accuracy: 0.6582 - val_loss: 0.8225 - val_accuracy: 0.7116\n",
            "Epoch 64/200\n",
            "48000/48000 [==============================] - 1s 23us/step - loss: 0.9505 - accuracy: 0.6597 - val_loss: 0.8151 - val_accuracy: 0.7138\n",
            "Epoch 65/200\n",
            "48000/48000 [==============================] - 1s 22us/step - loss: 0.9419 - accuracy: 0.6647 - val_loss: 0.7944 - val_accuracy: 0.7203\n",
            "Epoch 66/200\n",
            "48000/48000 [==============================] - 1s 21us/step - loss: 0.9339 - accuracy: 0.6634 - val_loss: 0.8186 - val_accuracy: 0.6995\n",
            "Epoch 67/200\n",
            "48000/48000 [==============================] - 1s 21us/step - loss: 0.9539 - accuracy: 0.6579 - val_loss: 0.8052 - val_accuracy: 0.7162\n",
            "Epoch 68/200\n",
            "48000/48000 [==============================] - 1s 22us/step - loss: 0.9516 - accuracy: 0.6590 - val_loss: 0.8059 - val_accuracy: 0.7189\n",
            "Epoch 69/200\n",
            "48000/48000 [==============================] - 1s 21us/step - loss: 0.9419 - accuracy: 0.6644 - val_loss: 0.8026 - val_accuracy: 0.7109\n",
            "Epoch 70/200\n",
            "48000/48000 [==============================] - 1s 21us/step - loss: 0.9470 - accuracy: 0.6618 - val_loss: 0.8685 - val_accuracy: 0.6872\n",
            "Epoch 71/200\n",
            "48000/48000 [==============================] - 1s 22us/step - loss: 0.9533 - accuracy: 0.6582 - val_loss: 0.8128 - val_accuracy: 0.7113\n",
            "Epoch 72/200\n",
            "48000/48000 [==============================] - 1s 22us/step - loss: 0.9538 - accuracy: 0.6584 - val_loss: 0.8362 - val_accuracy: 0.7025\n",
            "Epoch 73/200\n",
            "48000/48000 [==============================] - 1s 21us/step - loss: 0.9524 - accuracy: 0.6596 - val_loss: 0.8057 - val_accuracy: 0.7203\n",
            "Epoch 74/200\n",
            "48000/48000 [==============================] - 1s 21us/step - loss: 0.9408 - accuracy: 0.6618 - val_loss: 0.8368 - val_accuracy: 0.7107\n",
            "Epoch 75/200\n",
            "48000/48000 [==============================] - 1s 22us/step - loss: 0.9676 - accuracy: 0.6526 - val_loss: 0.8230 - val_accuracy: 0.7058\n",
            "Epoch 76/200\n",
            "48000/48000 [==============================] - 1s 21us/step - loss: 0.9669 - accuracy: 0.6532 - val_loss: 0.8154 - val_accuracy: 0.7109\n",
            "Epoch 77/200\n",
            "48000/48000 [==============================] - 1s 21us/step - loss: 0.9571 - accuracy: 0.6581 - val_loss: 0.8084 - val_accuracy: 0.7162\n",
            "Epoch 78/200\n",
            "48000/48000 [==============================] - 1s 21us/step - loss: 0.9526 - accuracy: 0.6582 - val_loss: 0.8110 - val_accuracy: 0.7117\n",
            "Epoch 79/200\n",
            "48000/48000 [==============================] - 1s 21us/step - loss: 0.9571 - accuracy: 0.6551 - val_loss: 0.8265 - val_accuracy: 0.7068\n",
            "Epoch 80/200\n",
            "48000/48000 [==============================] - 1s 21us/step - loss: 0.9654 - accuracy: 0.6524 - val_loss: 0.8224 - val_accuracy: 0.7060\n",
            "Epoch 81/200\n",
            "48000/48000 [==============================] - 1s 22us/step - loss: 0.9633 - accuracy: 0.6518 - val_loss: 0.8193 - val_accuracy: 0.7127\n",
            "Epoch 82/200\n",
            "48000/48000 [==============================] - 1s 22us/step - loss: 0.9470 - accuracy: 0.6624 - val_loss: 0.8002 - val_accuracy: 0.7190\n",
            "Epoch 83/200\n",
            "48000/48000 [==============================] - 1s 21us/step - loss: 0.9569 - accuracy: 0.6569 - val_loss: 0.8137 - val_accuracy: 0.7128\n",
            "Epoch 84/200\n",
            "48000/48000 [==============================] - 1s 21us/step - loss: 0.9616 - accuracy: 0.6542 - val_loss: 0.8318 - val_accuracy: 0.6938\n",
            "Epoch 85/200\n",
            "48000/48000 [==============================] - 1s 21us/step - loss: 0.9709 - accuracy: 0.6530 - val_loss: 0.8154 - val_accuracy: 0.7143\n",
            "Epoch 86/200\n",
            "48000/48000 [==============================] - 1s 21us/step - loss: 0.9613 - accuracy: 0.6555 - val_loss: 0.8132 - val_accuracy: 0.7174\n",
            "Epoch 87/200\n",
            "48000/48000 [==============================] - 1s 21us/step - loss: 0.9476 - accuracy: 0.6593 - val_loss: 0.8292 - val_accuracy: 0.7089\n",
            "Epoch 88/200\n",
            "48000/48000 [==============================] - 1s 21us/step - loss: 0.9587 - accuracy: 0.6549 - val_loss: 0.8227 - val_accuracy: 0.7089\n",
            "Epoch 89/200\n",
            "48000/48000 [==============================] - 1s 23us/step - loss: 0.9434 - accuracy: 0.6629 - val_loss: 0.7981 - val_accuracy: 0.7194\n",
            "Epoch 90/200\n",
            "48000/48000 [==============================] - 1s 22us/step - loss: 0.9536 - accuracy: 0.6595 - val_loss: 0.8162 - val_accuracy: 0.7093\n",
            "Epoch 91/200\n",
            "48000/48000 [==============================] - 1s 22us/step - loss: 0.9536 - accuracy: 0.6558 - val_loss: 0.8086 - val_accuracy: 0.7133\n",
            "Epoch 92/200\n",
            "48000/48000 [==============================] - 1s 22us/step - loss: 0.9562 - accuracy: 0.6552 - val_loss: 0.8053 - val_accuracy: 0.7179\n",
            "Epoch 93/200\n",
            "48000/48000 [==============================] - 1s 21us/step - loss: 0.9395 - accuracy: 0.6618 - val_loss: 0.8178 - val_accuracy: 0.7126\n",
            "Epoch 94/200\n",
            "48000/48000 [==============================] - 1s 23us/step - loss: 0.9524 - accuracy: 0.6579 - val_loss: 0.8127 - val_accuracy: 0.7124\n",
            "Epoch 95/200\n",
            "48000/48000 [==============================] - 1s 22us/step - loss: 0.9438 - accuracy: 0.6611 - val_loss: 0.8164 - val_accuracy: 0.7086\n",
            "Epoch 96/200\n",
            "48000/48000 [==============================] - 1s 22us/step - loss: 0.9383 - accuracy: 0.6639 - val_loss: 0.8099 - val_accuracy: 0.7193\n",
            "Epoch 97/200\n",
            "48000/48000 [==============================] - 1s 21us/step - loss: 0.9413 - accuracy: 0.6603 - val_loss: 0.7941 - val_accuracy: 0.7186\n",
            "Epoch 98/200\n",
            "48000/48000 [==============================] - 1s 22us/step - loss: 0.9359 - accuracy: 0.6653 - val_loss: 0.8147 - val_accuracy: 0.7082\n",
            "Epoch 99/200\n",
            "48000/48000 [==============================] - 1s 22us/step - loss: 0.9365 - accuracy: 0.6626 - val_loss: 0.8036 - val_accuracy: 0.7114\n",
            "Epoch 100/200\n",
            "48000/48000 [==============================] - 1s 22us/step - loss: 0.9349 - accuracy: 0.6645 - val_loss: 0.7786 - val_accuracy: 0.7189\n",
            "Epoch 101/200\n",
            "48000/48000 [==============================] - 1s 21us/step - loss: 0.9386 - accuracy: 0.6639 - val_loss: 0.7991 - val_accuracy: 0.7222\n",
            "Epoch 102/200\n",
            "48000/48000 [==============================] - 1s 22us/step - loss: 0.9345 - accuracy: 0.6652 - val_loss: 0.7987 - val_accuracy: 0.7215\n",
            "Epoch 103/200\n",
            "48000/48000 [==============================] - 1s 23us/step - loss: 0.9486 - accuracy: 0.6590 - val_loss: 0.8158 - val_accuracy: 0.7201\n",
            "Epoch 104/200\n",
            "48000/48000 [==============================] - 1s 21us/step - loss: 0.9426 - accuracy: 0.6597 - val_loss: 0.8392 - val_accuracy: 0.7031\n",
            "Epoch 105/200\n",
            "48000/48000 [==============================] - 1s 22us/step - loss: 0.9554 - accuracy: 0.6569 - val_loss: 0.8008 - val_accuracy: 0.7136\n",
            "Epoch 106/200\n",
            "48000/48000 [==============================] - 1s 21us/step - loss: 0.9336 - accuracy: 0.6661 - val_loss: 0.8053 - val_accuracy: 0.7135\n",
            "Epoch 107/200\n",
            "48000/48000 [==============================] - 1s 21us/step - loss: 0.9308 - accuracy: 0.6670 - val_loss: 0.7982 - val_accuracy: 0.7235\n",
            "Epoch 108/200\n",
            "48000/48000 [==============================] - 1s 21us/step - loss: 0.9285 - accuracy: 0.6673 - val_loss: 0.7846 - val_accuracy: 0.7222\n",
            "Epoch 109/200\n",
            "48000/48000 [==============================] - 1s 21us/step - loss: 0.9469 - accuracy: 0.6599 - val_loss: 0.7789 - val_accuracy: 0.7238\n",
            "Epoch 110/200\n",
            "48000/48000 [==============================] - 1s 21us/step - loss: 0.9441 - accuracy: 0.6614 - val_loss: 0.8056 - val_accuracy: 0.7135\n",
            "Epoch 111/200\n",
            "48000/48000 [==============================] - 1s 22us/step - loss: 0.9430 - accuracy: 0.6604 - val_loss: 0.7769 - val_accuracy: 0.7252\n",
            "Epoch 112/200\n",
            "48000/48000 [==============================] - 1s 22us/step - loss: 0.9438 - accuracy: 0.6595 - val_loss: 0.7915 - val_accuracy: 0.7225\n",
            "Epoch 113/200\n",
            "48000/48000 [==============================] - 1s 22us/step - loss: 0.9385 - accuracy: 0.6645 - val_loss: 0.7742 - val_accuracy: 0.7208\n",
            "Epoch 114/200\n",
            "48000/48000 [==============================] - 1s 22us/step - loss: 0.9360 - accuracy: 0.6625 - val_loss: 0.7986 - val_accuracy: 0.7193\n",
            "Epoch 115/200\n",
            "48000/48000 [==============================] - 1s 20us/step - loss: 0.9645 - accuracy: 0.6531 - val_loss: 0.8138 - val_accuracy: 0.7141\n",
            "Epoch 116/200\n",
            "48000/48000 [==============================] - 1s 21us/step - loss: 0.9358 - accuracy: 0.6647 - val_loss: 0.8119 - val_accuracy: 0.7157\n",
            "Epoch 117/200\n",
            "48000/48000 [==============================] - 1s 21us/step - loss: 0.9420 - accuracy: 0.6638 - val_loss: 0.7916 - val_accuracy: 0.7193\n",
            "Epoch 118/200\n",
            "48000/48000 [==============================] - 1s 21us/step - loss: 0.9339 - accuracy: 0.6695 - val_loss: 0.7894 - val_accuracy: 0.7199\n",
            "Epoch 119/200\n",
            "48000/48000 [==============================] - 1s 23us/step - loss: 0.9399 - accuracy: 0.6653 - val_loss: 0.7925 - val_accuracy: 0.7142\n",
            "Epoch 120/200\n",
            "48000/48000 [==============================] - 1s 22us/step - loss: 0.9460 - accuracy: 0.6590 - val_loss: 0.7948 - val_accuracy: 0.7184\n",
            "Epoch 121/200\n",
            "48000/48000 [==============================] - 1s 21us/step - loss: 0.9555 - accuracy: 0.6544 - val_loss: 0.8038 - val_accuracy: 0.7067\n",
            "Epoch 122/200\n",
            "48000/48000 [==============================] - 1s 21us/step - loss: 0.9461 - accuracy: 0.6583 - val_loss: 0.7977 - val_accuracy: 0.7204\n",
            "Epoch 123/200\n",
            "48000/48000 [==============================] - 1s 21us/step - loss: 0.9357 - accuracy: 0.6673 - val_loss: 0.8105 - val_accuracy: 0.7071\n",
            "Epoch 124/200\n",
            "48000/48000 [==============================] - 1s 22us/step - loss: 0.9368 - accuracy: 0.6640 - val_loss: 0.7960 - val_accuracy: 0.7177\n",
            "Epoch 125/200\n",
            "48000/48000 [==============================] - 1s 21us/step - loss: 0.9340 - accuracy: 0.6647 - val_loss: 0.7894 - val_accuracy: 0.7224\n",
            "Epoch 126/200\n",
            "48000/48000 [==============================] - 1s 21us/step - loss: 0.9345 - accuracy: 0.6625 - val_loss: 0.7784 - val_accuracy: 0.7209\n",
            "Epoch 127/200\n",
            "48000/48000 [==============================] - 1s 22us/step - loss: 0.9320 - accuracy: 0.6664 - val_loss: 0.7738 - val_accuracy: 0.7243\n",
            "Epoch 128/200\n",
            "48000/48000 [==============================] - 1s 22us/step - loss: 0.9334 - accuracy: 0.6641 - val_loss: 0.8034 - val_accuracy: 0.7128\n",
            "Epoch 129/200\n",
            "48000/48000 [==============================] - 1s 21us/step - loss: 0.9367 - accuracy: 0.6627 - val_loss: 0.7994 - val_accuracy: 0.7195\n",
            "Epoch 130/200\n",
            "48000/48000 [==============================] - 1s 21us/step - loss: 0.9359 - accuracy: 0.6629 - val_loss: 0.7776 - val_accuracy: 0.7222\n",
            "Epoch 131/200\n",
            "48000/48000 [==============================] - 1s 21us/step - loss: 0.9428 - accuracy: 0.6623 - val_loss: 0.7703 - val_accuracy: 0.7268\n",
            "Epoch 132/200\n",
            "48000/48000 [==============================] - 1s 22us/step - loss: 0.9469 - accuracy: 0.6598 - val_loss: 0.7835 - val_accuracy: 0.7220\n",
            "Epoch 133/200\n",
            "48000/48000 [==============================] - 1s 21us/step - loss: 0.9365 - accuracy: 0.6622 - val_loss: 0.7786 - val_accuracy: 0.7242\n",
            "Epoch 134/200\n",
            "48000/48000 [==============================] - 1s 21us/step - loss: 0.9379 - accuracy: 0.6630 - val_loss: 0.8095 - val_accuracy: 0.7196\n",
            "Epoch 135/200\n",
            "48000/48000 [==============================] - 1s 21us/step - loss: 0.9336 - accuracy: 0.6666 - val_loss: 0.7987 - val_accuracy: 0.7120\n",
            "Epoch 136/200\n",
            "48000/48000 [==============================] - 1s 22us/step - loss: 0.9391 - accuracy: 0.6626 - val_loss: 0.8129 - val_accuracy: 0.7203\n",
            "Epoch 137/200\n",
            "48000/48000 [==============================] - 1s 22us/step - loss: 0.9396 - accuracy: 0.6641 - val_loss: 0.8001 - val_accuracy: 0.7209\n",
            "Epoch 138/200\n",
            "48000/48000 [==============================] - 1s 23us/step - loss: 0.9480 - accuracy: 0.6599 - val_loss: 0.7841 - val_accuracy: 0.7206\n",
            "Epoch 139/200\n",
            "48000/48000 [==============================] - 1s 21us/step - loss: 0.9377 - accuracy: 0.6642 - val_loss: 0.7876 - val_accuracy: 0.7201\n",
            "Epoch 140/200\n",
            "48000/48000 [==============================] - 1s 21us/step - loss: 0.9509 - accuracy: 0.6576 - val_loss: 0.7875 - val_accuracy: 0.7207\n",
            "Epoch 141/200\n",
            "48000/48000 [==============================] - 1s 21us/step - loss: 0.9463 - accuracy: 0.6583 - val_loss: 0.7861 - val_accuracy: 0.7177\n",
            "Epoch 142/200\n",
            "48000/48000 [==============================] - 1s 21us/step - loss: 0.9510 - accuracy: 0.6566 - val_loss: 0.7839 - val_accuracy: 0.7190\n",
            "Epoch 143/200\n",
            "48000/48000 [==============================] - 1s 21us/step - loss: 0.9414 - accuracy: 0.6638 - val_loss: 0.8022 - val_accuracy: 0.7147\n",
            "Epoch 144/200\n",
            "48000/48000 [==============================] - 1s 21us/step - loss: 0.9521 - accuracy: 0.6571 - val_loss: 0.7902 - val_accuracy: 0.7206\n",
            "Epoch 145/200\n",
            "48000/48000 [==============================] - 1s 21us/step - loss: 0.9572 - accuracy: 0.6555 - val_loss: 0.8129 - val_accuracy: 0.7095\n",
            "Epoch 146/200\n",
            "48000/48000 [==============================] - 1s 21us/step - loss: 0.9529 - accuracy: 0.6553 - val_loss: 0.7728 - val_accuracy: 0.7261\n",
            "Epoch 147/200\n",
            "48000/48000 [==============================] - 1s 22us/step - loss: 0.9330 - accuracy: 0.6662 - val_loss: 0.7730 - val_accuracy: 0.7267\n",
            "Epoch 148/200\n",
            "48000/48000 [==============================] - 1s 22us/step - loss: 0.9373 - accuracy: 0.6621 - val_loss: 0.7831 - val_accuracy: 0.7256\n",
            "Epoch 149/200\n",
            "48000/48000 [==============================] - 1s 20us/step - loss: 0.9412 - accuracy: 0.6593 - val_loss: 0.7838 - val_accuracy: 0.7297\n",
            "Epoch 150/200\n",
            "48000/48000 [==============================] - 1s 21us/step - loss: 0.9471 - accuracy: 0.6547 - val_loss: 0.7846 - val_accuracy: 0.7166\n",
            "Epoch 151/200\n",
            "48000/48000 [==============================] - 1s 21us/step - loss: 0.9471 - accuracy: 0.6559 - val_loss: 0.8162 - val_accuracy: 0.7106\n",
            "Epoch 152/200\n",
            "48000/48000 [==============================] - 1s 21us/step - loss: 0.9477 - accuracy: 0.6564 - val_loss: 0.8108 - val_accuracy: 0.7178\n",
            "Epoch 153/200\n",
            "48000/48000 [==============================] - 1s 21us/step - loss: 0.9601 - accuracy: 0.6522 - val_loss: 0.8286 - val_accuracy: 0.7065\n",
            "Epoch 154/200\n",
            "48000/48000 [==============================] - 1s 21us/step - loss: 0.9485 - accuracy: 0.6608 - val_loss: 0.7846 - val_accuracy: 0.7264\n",
            "Epoch 155/200\n",
            "48000/48000 [==============================] - 1s 21us/step - loss: 0.9497 - accuracy: 0.6573 - val_loss: 0.8081 - val_accuracy: 0.7033\n",
            "Epoch 156/200\n",
            "48000/48000 [==============================] - 1s 21us/step - loss: 0.9385 - accuracy: 0.6576 - val_loss: 0.7785 - val_accuracy: 0.7254\n",
            "Epoch 157/200\n",
            "48000/48000 [==============================] - 1s 21us/step - loss: 0.9449 - accuracy: 0.6578 - val_loss: 0.7980 - val_accuracy: 0.7174\n",
            "Epoch 158/200\n",
            "48000/48000 [==============================] - 1s 23us/step - loss: 0.9498 - accuracy: 0.6583 - val_loss: 0.7865 - val_accuracy: 0.7172\n",
            "Epoch 159/200\n",
            "48000/48000 [==============================] - 1s 22us/step - loss: 0.9347 - accuracy: 0.6623 - val_loss: 0.7862 - val_accuracy: 0.7242\n",
            "Epoch 160/200\n",
            "48000/48000 [==============================] - 1s 21us/step - loss: 0.9341 - accuracy: 0.6648 - val_loss: 0.7857 - val_accuracy: 0.7163\n",
            "Epoch 161/200\n",
            "48000/48000 [==============================] - 1s 21us/step - loss: 0.9307 - accuracy: 0.6670 - val_loss: 0.7604 - val_accuracy: 0.7288\n",
            "Epoch 162/200\n",
            "48000/48000 [==============================] - 1s 22us/step - loss: 0.9373 - accuracy: 0.6619 - val_loss: 0.7737 - val_accuracy: 0.7258\n",
            "Epoch 163/200\n",
            "48000/48000 [==============================] - 1s 22us/step - loss: 0.9324 - accuracy: 0.6656 - val_loss: 0.7718 - val_accuracy: 0.7253\n",
            "Epoch 164/200\n",
            "48000/48000 [==============================] - 1s 21us/step - loss: 0.9215 - accuracy: 0.6708 - val_loss: 0.7846 - val_accuracy: 0.7234\n",
            "Epoch 165/200\n",
            "48000/48000 [==============================] - 1s 22us/step - loss: 0.9258 - accuracy: 0.6691 - val_loss: 0.7765 - val_accuracy: 0.7246\n",
            "Epoch 166/200\n",
            "48000/48000 [==============================] - 1s 21us/step - loss: 0.9246 - accuracy: 0.6685 - val_loss: 0.7663 - val_accuracy: 0.7263\n",
            "Epoch 167/200\n",
            "48000/48000 [==============================] - 1s 21us/step - loss: 0.9295 - accuracy: 0.6661 - val_loss: 0.7857 - val_accuracy: 0.7130\n",
            "Epoch 168/200\n",
            "48000/48000 [==============================] - 1s 21us/step - loss: 0.9354 - accuracy: 0.6633 - val_loss: 0.7849 - val_accuracy: 0.7268\n",
            "Epoch 169/200\n",
            "48000/48000 [==============================] - 1s 21us/step - loss: 0.9385 - accuracy: 0.6619 - val_loss: 0.7948 - val_accuracy: 0.7171\n",
            "Epoch 170/200\n",
            "48000/48000 [==============================] - 1s 21us/step - loss: 0.9400 - accuracy: 0.6619 - val_loss: 0.7754 - val_accuracy: 0.7228\n",
            "Epoch 171/200\n",
            "48000/48000 [==============================] - 1s 21us/step - loss: 0.9360 - accuracy: 0.6620 - val_loss: 0.7953 - val_accuracy: 0.7179\n",
            "Epoch 172/200\n",
            "48000/48000 [==============================] - 1s 21us/step - loss: 0.9385 - accuracy: 0.6626 - val_loss: 0.7738 - val_accuracy: 0.7258\n",
            "Epoch 173/200\n",
            "48000/48000 [==============================] - 1s 21us/step - loss: 0.9326 - accuracy: 0.6643 - val_loss: 0.7932 - val_accuracy: 0.7203\n",
            "Epoch 174/200\n",
            "48000/48000 [==============================] - 1s 22us/step - loss: 0.9354 - accuracy: 0.6626 - val_loss: 0.7886 - val_accuracy: 0.7165\n",
            "Epoch 175/200\n",
            "48000/48000 [==============================] - 1s 22us/step - loss: 0.9335 - accuracy: 0.6653 - val_loss: 0.7746 - val_accuracy: 0.7247\n",
            "Epoch 176/200\n",
            "48000/48000 [==============================] - 1s 22us/step - loss: 0.9360 - accuracy: 0.6609 - val_loss: 0.7716 - val_accuracy: 0.7331\n",
            "Epoch 177/200\n",
            "48000/48000 [==============================] - 1s 21us/step - loss: 0.9330 - accuracy: 0.6624 - val_loss: 0.7896 - val_accuracy: 0.7122\n",
            "Epoch 178/200\n",
            "48000/48000 [==============================] - 1s 21us/step - loss: 0.9388 - accuracy: 0.6619 - val_loss: 0.7758 - val_accuracy: 0.7289\n",
            "Epoch 179/200\n",
            "48000/48000 [==============================] - 1s 22us/step - loss: 0.9270 - accuracy: 0.6638 - val_loss: 0.7729 - val_accuracy: 0.7315\n",
            "Epoch 180/200\n",
            "48000/48000 [==============================] - 1s 21us/step - loss: 0.9278 - accuracy: 0.6663 - val_loss: 0.7708 - val_accuracy: 0.7278\n",
            "Epoch 181/200\n",
            "48000/48000 [==============================] - 1s 21us/step - loss: 0.9263 - accuracy: 0.6672 - val_loss: 0.7894 - val_accuracy: 0.7203\n",
            "Epoch 182/200\n",
            "48000/48000 [==============================] - 1s 22us/step - loss: 0.9181 - accuracy: 0.6676 - val_loss: 0.7751 - val_accuracy: 0.7200\n",
            "Epoch 183/200\n",
            "48000/48000 [==============================] - 1s 21us/step - loss: 0.9257 - accuracy: 0.6655 - val_loss: 0.7590 - val_accuracy: 0.7287\n",
            "Epoch 184/200\n",
            "48000/48000 [==============================] - 1s 21us/step - loss: 0.9262 - accuracy: 0.6687 - val_loss: 0.7713 - val_accuracy: 0.7271\n",
            "Epoch 185/200\n",
            "48000/48000 [==============================] - 1s 21us/step - loss: 0.9364 - accuracy: 0.6630 - val_loss: 0.7674 - val_accuracy: 0.7259\n",
            "Epoch 186/200\n",
            "48000/48000 [==============================] - 1s 22us/step - loss: 0.9304 - accuracy: 0.6664 - val_loss: 0.8151 - val_accuracy: 0.7079\n",
            "Epoch 187/200\n",
            "48000/48000 [==============================] - 1s 22us/step - loss: 0.9258 - accuracy: 0.6685 - val_loss: 0.7831 - val_accuracy: 0.7108\n",
            "Epoch 188/200\n",
            "48000/48000 [==============================] - 1s 21us/step - loss: 0.9405 - accuracy: 0.6589 - val_loss: 0.7718 - val_accuracy: 0.7311\n",
            "Epoch 189/200\n",
            "48000/48000 [==============================] - 1s 21us/step - loss: 0.9286 - accuracy: 0.6657 - val_loss: 0.7634 - val_accuracy: 0.7290\n",
            "Epoch 190/200\n",
            "48000/48000 [==============================] - 1s 21us/step - loss: 0.9228 - accuracy: 0.6668 - val_loss: 0.7606 - val_accuracy: 0.7304\n",
            "Epoch 191/200\n",
            "48000/48000 [==============================] - 1s 23us/step - loss: 0.9398 - accuracy: 0.6618 - val_loss: 0.7825 - val_accuracy: 0.7198\n",
            "Epoch 192/200\n",
            "48000/48000 [==============================] - 1s 21us/step - loss: 0.9351 - accuracy: 0.6639 - val_loss: 0.7640 - val_accuracy: 0.7283\n",
            "Epoch 193/200\n",
            "48000/48000 [==============================] - 1s 21us/step - loss: 0.9330 - accuracy: 0.6628 - val_loss: 0.7717 - val_accuracy: 0.7271\n",
            "Epoch 194/200\n",
            "48000/48000 [==============================] - 1s 22us/step - loss: 0.9158 - accuracy: 0.6719 - val_loss: 0.7721 - val_accuracy: 0.7301\n",
            "Epoch 195/200\n",
            "48000/48000 [==============================] - 1s 22us/step - loss: 0.9208 - accuracy: 0.6714 - val_loss: 0.7864 - val_accuracy: 0.7205\n",
            "Epoch 196/200\n",
            "48000/48000 [==============================] - 1s 21us/step - loss: 0.9344 - accuracy: 0.6627 - val_loss: 0.7915 - val_accuracy: 0.7224\n",
            "Epoch 197/200\n",
            "48000/48000 [==============================] - 1s 22us/step - loss: 0.9377 - accuracy: 0.6629 - val_loss: 0.8012 - val_accuracy: 0.7157\n",
            "Epoch 198/200\n",
            "48000/48000 [==============================] - 1s 21us/step - loss: 0.9353 - accuracy: 0.6601 - val_loss: 0.7931 - val_accuracy: 0.7209\n",
            "Epoch 199/200\n",
            "48000/48000 [==============================] - 1s 21us/step - loss: 0.9380 - accuracy: 0.6593 - val_loss: 0.7713 - val_accuracy: 0.7225\n",
            "Epoch 200/200\n",
            "48000/48000 [==============================] - 1s 22us/step - loss: 0.9291 - accuracy: 0.6657 - val_loss: 0.7676 - val_accuracy: 0.7307\n"
          ],
          "name": "stdout"
        }
      ]
    },
    {
      "cell_type": "code",
      "metadata": {
        "id": "TTqtpWcZg83d",
        "colab_type": "code",
        "colab": {
          "base_uri": "https://localhost:8080/",
          "height": 50
        },
        "outputId": "0311ab61-6796-4c3a-9637-73d796f8cbf6"
      },
      "source": [
        "score = model.evaluate(test_features, y_test, verbose=0)\n",
        "print('Test loss:', score[0])\n",
        "print('Test accuracy:', score[1]*100)"
      ],
      "execution_count": 46,
      "outputs": [
        {
          "output_type": "stream",
          "text": [
            "Test loss: 0.7524102459907531\n",
            "Test accuracy: 73.79000186920166\n"
          ],
          "name": "stdout"
        }
      ]
    },
    {
      "cell_type": "code",
      "metadata": {
        "id": "7n1AGit2hRyv",
        "colab_type": "code",
        "colab": {
          "base_uri": "https://localhost:8080/",
          "height": 279
        },
        "outputId": "e0a0f5ea-be86-4793-ab27-386389688775"
      },
      "source": [
        "#VIsualizing the training performance\n",
        "plt.figure(figsize=(12, 8))\n",
        "\n",
        "plt.subplot(2, 2, 1)\n",
        "plt.plot(history.history['loss'], label='Loss')\n",
        "plt.plot(history.history['val_loss'], label='val_Loss')\n",
        "plt.legend()\n",
        "plt.title('Loss evolution')\n",
        "\n",
        "plt.subplot(2, 2, 2)\n",
        "plt.plot(history.history['accuracy'], label='accuracy')\n",
        "plt.plot(history.history['val_accuracy'], label='val_accuracy')\n",
        "plt.legend()\n",
        "plt.title('Accuracy evolution')"
      ],
      "execution_count": 47,
      "outputs": [
        {
          "output_type": "execute_result",
          "data": {
            "text/plain": [
              "Text(0.5, 1.0, 'Accuracy evolution')"
            ]
          },
          "metadata": {
            "tags": []
          },
          "execution_count": 47
        },
        {
          "output_type": "display_data",
          "data": {
            "image/png": "[encoded data removed]",
            "text/plain": [
              "<Figure size 864x576 with 2 Axes>"
            ]
          },
          "metadata": {
            "tags": [],
            "needs_background": "light"
          }
        }
      ]
    },
    {
      "cell_type": "code",
      "metadata": {
        "id": "w4jj3_CaX3pz",
        "colab_type": "code",
        "colab": {
          "base_uri": "https://localhost:8080/",
          "height": 545
        },
        "outputId": "0571848e-2aea-4974-8720-d36ca71be7f9"
      },
      "source": [
        "# plot the loss and accuracy\n",
        "import matplotlib.pyplot as plt\n",
        "%matplotlib inline\n",
        "\n",
        "acc = history.history['accuracy']\n",
        "val_acc = history.history['val_accuracy']\n",
        "loss = history.history['loss']\n",
        "val_loss = history.history['val_loss']\n",
        "epochs = range(1, len(acc) + 1)\n",
        "\n",
        "plt.title('Training and validation accuracy')\n",
        "plt.plot(epochs, acc, 'red', label='Training acc')\n",
        "plt.plot(epochs, val_acc, 'blue', label='Validation acc')\n",
        "plt.legend()\n",
        "\n",
        "plt.figure()\n",
        "plt.title('Training and validation loss')\n",
        "plt.plot(epochs, loss, 'red', label='Training loss')\n",
        "plt.plot(epochs, val_loss, 'blue', label='Validation loss')\n",
        "\n",
        "plt.legend()\n",
        "\n",
        "plt.show()"
      ],
      "execution_count": 48,
      "outputs": [
        {
          "output_type": "display_data",
          "data": {
            "image/png": "[encoded data removed]",
            "text/plain": [
              "<Figure size 432x288 with 1 Axes>"
            ]
          },
          "metadata": {
            "tags": [],
            "needs_background": "light"
          }
        },
        {
          "output_type": "display_data",
          "data": {
            "image/png": "[encoded data removed]",
            "text/plain": [
              "<Figure size 432x288 with 1 Axes>"
            ]
          },
          "metadata": {
            "tags": [],
            "needs_background": "light"
          }
        }
      ]
    },
    {
      "cell_type": "code",
      "metadata": {
        "id": "8wlhlGfciowS",
        "colab_type": "code",
        "colab": {}
      },
      "source": [
        "predicted_classes = model.predict_classes(test_features)\n",
        "y_true = data_test.iloc[:, 0]"
      ],
      "execution_count": 51,
      "outputs": []
    },
    {
      "cell_type": "code",
      "metadata": {
        "id": "bUyCb_jcixdJ",
        "colab_type": "code",
        "colab": {
          "base_uri": "https://localhost:8080/",
          "height": 302
        },
        "outputId": "83ca10f0-61f0-4c04-9ed3-a63928ae0990"
      },
      "source": [
        "from sklearn.metrics import classification_report\n",
        "target_names = [\"Class {}\".format(i) for i in range(10)]\n",
        "print(classification_report(y_true, predicted_classes, target_names=target_names))"
      ],
      "execution_count": 52,
      "outputs": [
        {
          "output_type": "stream",
          "text": [
            "              precision    recall  f1-score   support\n",
            "\n",
            "     Class 0       0.61      0.72      0.66      1000\n",
            "     Class 1       0.92      0.92      0.92      1000\n",
            "     Class 2       0.60      0.56      0.58      1000\n",
            "     Class 3       0.67      0.80      0.73      1000\n",
            "     Class 4       0.69      0.57      0.62      1000\n",
            "     Class 5       0.91      0.86      0.88      1000\n",
            "     Class 6       0.46      0.31      0.37      1000\n",
            "     Class 7       0.81      0.88      0.84      1000\n",
            "     Class 8       0.77      0.90      0.83      1000\n",
            "     Class 9       0.88      0.86      0.87      1000\n",
            "\n",
            "    accuracy                           0.74     10000\n",
            "   macro avg       0.73      0.74      0.73     10000\n",
            "weighted avg       0.73      0.74      0.73     10000\n",
            "\n"
          ],
          "name": "stdout"
        }
      ]
    },
    {
      "cell_type": "code",
      "metadata": {
        "id": "fhKj5Aven_cq",
        "colab_type": "code",
        "colab": {}
      },
      "source": [
        ""
      ],
      "execution_count": null,
      "outputs": []
    }
  ]
}